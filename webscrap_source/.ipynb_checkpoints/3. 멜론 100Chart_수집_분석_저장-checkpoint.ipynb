{
 "cells": [
  {
   "cell_type": "markdown",
   "metadata": {},
   "source": [
    "### Melon 100 Chart\n",
    "* 100곡의 노래의 제목, Song ID추출 (정규표현식 사용)\n",
    "* Song ID로 상세페이지를 100번 요청해서 노래 상세정보 추출\n",
    "* 100곡의 상세정보를 json file에 저장한다.\n",
    "* json file을 Pandas의 DataFrame 객체에 저장해서 표데이터를 만들기\n",
    "* 표 데이터를 MariaDB에 저장하기"
   ]
  },
  {
   "cell_type": "markdown",
   "metadata": {},
   "source": [
    "#### 1. 100곡의 노래 제목, Song ID추출 (정규표현식 사용)"
   ]
  },
  {
   "cell_type": "code",
   "execution_count": 14,
   "metadata": {},
   "outputs": [
    {
     "ename": "SyntaxError",
     "evalue": "EOL while scanning string literal (<ipython-input-14-20d84bc0f8f1>, line 30)",
     "output_type": "error",
     "traceback": [
      "\u001b[1;36m  File \u001b[1;32m\"<ipython-input-14-20d84bc0f8f1>\"\u001b[1;36m, line \u001b[1;32m30\u001b[0m\n\u001b[1;33m    atag_list = soup.select(\"div#tb_list tr .wrap_song_info a[href*='playSong'])\u001b[0m\n\u001b[1;37m                                                                                ^\u001b[0m\n\u001b[1;31mSyntaxError\u001b[0m\u001b[1;31m:\u001b[0m EOL while scanning string literal\n"
     ]
    }
   ],
   "source": [
    "import requests\n",
    "from bs4 import BeautifulSoup\n",
    "import re\n",
    "\n",
    "url = \"https://www.melon.com/chart/index.htm\"\n",
    "req_header = {\n",
    "    'user-agent': \"Mozilla/5.0 (Windows NT 10.0; Win64; x64) AppleWebKit/537.36 (KHTML, like Gecko) Chrome/87.0.4280.88 Safari/537.36\"\n",
    "}\n",
    "\n",
    "# 요청을 보내기\n",
    "res = requests.get(url, headers=req_header)\n",
    "print(res.status_code)\n",
    "# 응답결과가 정상이면\n",
    "if res.ok:\n",
    "    # 응답 객체에 포함된 test 추출\n",
    "    html = res.text\n",
    "    # 추출한 text를 파싱하기 위한 beautifulSoup 객체 생성\n",
    "    soup = BeautifulSoup(html, 'html.parser')\n",
    "    # <div id='tb_list'> div 태그 선택\n",
    "    print(len(soup.select('div#tb_list')))\n",
    "    # <div id='tb_list'> 하위에 있는 태그 선택, 101개\n",
    "    print(len(soup.select('div#tb_list tr')))\n",
    "    # <div id='tb_list'> 하위에 있는 tr 하위에 <div class='wrap_song_info'>\n",
    "    print(len(soup.select('div#tb_list tr .wrap_song_info')))\n",
    "    print(len(soup.select('div.wrap_song_info')))\n",
    "    # <div id='id_list'> 하위에 있는 tr 하위에 <div class ='wrap_song_info'>\n",
    "    # 하위에 <a hrep='playSong'>\n",
    "    print(len(soup.select('div#tb_list tr .wrap_song_info a[href*=\\'playSong\\']')))\n",
    "    \n",
    "    atag_list = soup.select(\"div#tb_list tr .wrap_song_info a[href*='playSong'])\n",
    "    for idx, atag in enumerate(atag_list, 1):\n",
    "        print(idx, atag)"
   ]
  }
 ],
 "metadata": {
  "kernelspec": {
   "display_name": "Python 3",
   "language": "python",
   "name": "python3"
  },
  "language_info": {
   "codemirror_mode": {
    "name": "ipython",
    "version": 3
   },
   "file_extension": ".py",
   "mimetype": "text/x-python",
   "name": "python",
   "nbconvert_exporter": "python",
   "pygments_lexer": "ipython3",
   "version": "3.8.5"
  }
 },
 "nbformat": 4,
 "nbformat_minor": 4
}
