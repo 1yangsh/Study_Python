{
 "cells": [
  {
   "cell_type": "code",
   "execution_count": 12,
   "metadata": {},
   "outputs": [],
   "source": [
    "import requests\n",
    "from bs4 import BeautifulSoup\n",
    "from urllib.parse import urljoin"
   ]
  },
  {
   "cell_type": "markdown",
   "metadata": {},
   "source": [
    "### 네이버 뉴스 제목 추출"
   ]
  },
  {
   "cell_type": "code",
   "execution_count": 13,
   "metadata": {},
   "outputs": [
    {
     "name": "stdout",
     "output_type": "stream",
     "text": [
      "<class 'requests.models.Response'>\n",
      "200\n",
      "response header = {'date': 'Wed, 06 Jan 2021 04:34:08 GMT', 'cache-control': 'no-cache', 'expires': 'Thu, 01 Jan 1970 00:00:00 GMT', 'set-cookie': 'JSESSIONID=02C8965439E2AA9B2DAC72AE5217D0ED; Path=/main; HttpOnly', 'content-language': 'ko-KR', 'vary': 'Accept-Encoding', 'content-encoding': 'gzip', 'transfer-encoding': 'chunked', 'content-type': 'text/html;charset=EUC-KR', 'referrer-policy': 'unsafe-url', 'server': 'nfront'}\n",
      "request header = {'user-agent': 'Mozilla/5.0 (Windows NT 10.0; Win64; x64) AppleWebKit/537.36 (KHTML, like Gecko) Chrome/87.0.4280.88 Safari/537.36', 'Accept-Encoding': 'gzip, deflate', 'Accept': '*/*', 'Connection': 'keep-alive'}\n"
     ]
    }
   ],
   "source": [
    "url = 'https://news.naver.com/'\n",
    "req_header = {\n",
    "    'user-agent': 'Mozilla/5.0 (Windows NT 10.0; Win64; x64) AppleWebKit/537.36 (KHTML, like Gecko) Chrome/87.0.4280.88 Safari/537.36'\n",
    "}\n",
    "res = requests.get(url, headers=req_header)\n",
    "print(type(res))\n",
    "print(res.status_code)\n",
    "print(f'response header = {res.headers}')\n",
    "print(f'request header = {res.request.headers}')"
   ]
  },
  {
   "cell_type": "code",
   "execution_count": 14,
   "metadata": {},
   "outputs": [
    {
     "name": "stdout",
     "output_type": "stream",
     "text": [
      "<class 'bs4.element.ResultSet'> 189\n",
      "1 대한항공, 국민연금 반대에도 '유상증자' 속도…… https://news.naver.com/main/read.nhn?mode=LSD&mid=shm&sid1=101&oid=421&aid=0005091158\n",
      "2 北 어제 8차 당 대회 개막...김정은, 경제실패 … https://news.naver.com/main/read.nhn?mode=LSD&mid=shm&sid1=100&oid=052&aid=0001534841\n",
      "3 이란은 올 필요없다는데…정부 대표단 가더라도 성과 불투명 https://news.naver.com/main/read.nhn?mode=LSD&mid=shm&sid1=100&oid=001&aid=0012122792\n",
      "4 산은,카카오엔터프라이즈에 1천억 투자…\"기업가치 1조원 인정\"(종합) https://news.naver.com/main/read.nhn?mode=LSD&mid=shm&sid1=101&oid=001&aid=0012122539\n",
      "5 박의장 \"국민통합, 시대적 요구…'권력구조 개편' 필요\"(종합) https://news.naver.com/main/read.nhn?mode=LSD&mid=shm&sid1=100&oid=001&aid=0012122637\n",
      "6 황하나 또 구속 기로…사망한 남친 \"끝이야 아웃\" 현실되나 https://news.naver.com/main/read.nhn?mode=LSD&mid=shm&sid1=102&oid=015&aid=0004478999\n",
      "7 ‘성적빡치심’도 성적수치심…대법, 레깅스 촬영 무죄 뒤집었다 https://news.naver.com/main/read.nhn?mode=LSD&mid=shm&sid1=102&oid=032&aid=0003052599\n",
      "8  https://news.naver.com/main/read.nhn?mode=LSD&mid=shm&sid1=100&oid=011&aid=0003852211\n",
      "9 野, 박범계·김진욱 향해 \"정의의 수호가 될 수 있을지 의문\"···\"임명 철회가 답\" https://news.naver.com/main/read.nhn?mode=LSD&mid=shm&sid1=100&oid=011&aid=0003852211\n",
      "10 하태경, 'MB·朴 사면 반대' 정청래 직격 \"반성문 쓰면 최순실도 해 줄 건가\" https://news.naver.com/main/read.nhn?mode=LSD&mid=shm&sid1=100&oid=011&aid=0003852197\n",
      "11 이란 \"한국 정부 행동 이해 안돼…이성적으로 대응해야\" https://news.naver.com/main/read.nhn?mode=LSD&mid=shm&sid1=100&oid=015&aid=0004479034\n",
      "12 역대급에 NO 마스크…北 8차 당대회서 3중고 극복 \"자신감과 배짱\" 메시지 https://news.naver.com/main/read.nhn?mode=LSD&mid=shm&sid1=100&oid=079&aid=0003451584\n",
      "13 이란은 올 필요없다는데…정부 대표단 가더라도 성과 불투명 https://news.naver.com/main/read.nhn?mode=LSD&mid=shm&sid1=100&oid=001&aid=0012122792\n",
      "14 김재련, 남인순 해명 정면반박…야권도 \"뻔뻔·참담\" 맹비난 https://news.naver.com/main/read.nhn?mode=LSD&mid=shm&sid1=100&oid=586&aid=0000019831\n",
      "15  https://news.naver.com/main/read.nhn?mode=LSD&mid=shm&sid1=101&oid=011&aid=0003852213\n",
      "16 [오후 주식시장은]코스피 3,000 찍고 1시간만에 반전···등락 거듭 https://news.naver.com/main/read.nhn?mode=LSD&mid=shm&sid1=101&oid=011&aid=0003852213\n",
      "17 '정인아미안해' 굿즈라니…추모 열기마저 이용한 팔이피플(종합) https://news.naver.com/main/read.nhn?mode=LSD&mid=shm&sid1=101&oid=421&aid=0005091432\n",
      "18 모더나 백신 위탁생산 후보에 한미약품 거론 이유는? https://news.naver.com/main/read.nhn?mode=LSD&mid=shm&sid1=101&oid=421&aid=0005091429\n",
      "19 거래허가제에도 거래량 회복, 잠실·대치·삼성동 신고가 속출 https://news.naver.com/main/read.nhn?mode=LSD&mid=shm&sid1=101&oid=008&aid=0004524457\n",
      "20 향후 주도주는 반도체·전기차·2차전지 https://news.naver.com/main/read.nhn?mode=LSD&mid=shm&sid1=101&oid=016&aid=0001775119\n",
      "21 코스닥도 ‘천스닥’ 초읽기 https://news.naver.com/main/read.nhn?mode=LSD&mid=shm&sid1=101&oid=016&aid=0001775118\n",
      "22  https://news.naver.com/main/read.nhn?mode=LSD&mid=shm&sid1=102&oid=014&aid=0004559909\n",
      "23 고시생모임 \"박범계, 폭행 사과 안 하면 고소할 것\" https://news.naver.com/main/read.nhn?mode=LSD&mid=shm&sid1=102&oid=014&aid=0004559909\n",
      "24 정인이 묘소 찾기 전날 이영애 소아 치료비 1억원 기부했다 https://news.naver.com/main/read.nhn?mode=LSD&mid=shm&sid1=102&oid=014&aid=0004559905\n",
      "25 “한국 남성 무시하나요”… 서울시 ‘임산부 꿀팁’ 논란 왜 https://news.naver.com/main/read.nhn?mode=LSD&mid=shm&sid1=102&oid=022&aid=0003540049\n",
      "26 방역 강화된 뒤 한 수용자의 호소 \"가축보다 못한 삶\" https://news.naver.com/main/read.nhn?mode=LSD&mid=shm&sid1=102&oid=008&aid=0004524458\n",
      "27 밀접접촉자 혼거수용, 66명 추가 확진…법무부 \"불가피했다\" https://news.naver.com/main/read.nhn?mode=LSD&mid=shm&sid1=102&oid=015&aid=0004479038\n",
      "28 헬스장은 금지하고 태권도는 영업… 방역당국 “아동 돌봄 때문에” https://news.naver.com/main/read.nhn?mode=LSD&mid=shm&sid1=102&oid=022&aid=0003540044\n",
      "29  https://news.naver.com/main/read.nhn?mode=LSD&mid=shm&sid1=103&oid=025&aid=0003067433\n",
      "30 치매 잡을 열쇠는 'C8-감마' 단백질, 국내 연구진이 찾았다 https://news.naver.com/main/read.nhn?mode=LSD&mid=shm&sid1=103&oid=025&aid=0003067433\n",
      "31 물방울처럼 평온한 無의 세계로…김창열 화백 별세 https://news.naver.com/main/read.nhn?mode=LSD&mid=shm&sid1=103&oid=422&aid=0000465135\n",
      "32 [더오래]짧게 살다간 작가의 ‘혼불 정신’길이 남을 문화도시 https://news.naver.com/main/read.nhn?mode=LSD&mid=shm&sid1=103&oid=025&aid=0003067426\n",
      "33 [문화현장] 신축년 새해맞이 신년음악회는 어떠세요? https://news.naver.com/main/read.nhn?mode=LSD&mid=shm&sid1=103&oid=055&aid=0000865870\n",
      "34 美 NIH 소장 “모더나 백신 1/2 투여 시 효능 연구 착수” https://news.naver.com/main/read.nhn?mode=LSD&mid=shm&sid1=103&oid=011&aid=0003852188\n",
      "35 [조재환의 카테크] 폭스바겐 파사트 GT 탑재 ‘트래블 어시스트’ 써보니 https://news.naver.com/main/read.nhn?mode=LSD&mid=shm&sid1=103&oid=092&aid=0002209958\n",
      "36  https://news.naver.com/main/read.nhn?mode=LSD&mid=shm&sid1=104&oid=001&aid=0012122892\n",
      "37 미 상원 다수당 걸린 조지아주 결선투표 '엎치락뒤치락' 접전 https://news.naver.com/main/read.nhn?mode=LSD&mid=shm&sid1=104&oid=001&aid=0012122892\n",
      "38 “바이든, 국무부 부장관에 북한통 웬디 셔먼 지명” https://news.naver.com/main/read.nhn?mode=LSD&mid=shm&sid1=104&oid=081&aid=0003153592\n",
      "39 美 LA 카운티 “소생 가능성 없으면 병원에 환자 이송 말라” https://news.naver.com/main/read.nhn?mode=LSD&mid=shm&sid1=104&oid=081&aid=0003153591\n",
      "40 ‘인육 쿠키’ 만든 러 80대 할머니 연쇄살인마, 코로나로 사망 https://news.naver.com/main/read.nhn?mode=LSD&mid=shm&sid1=104&oid=081&aid=0003153590\n",
      "41 [줌인] 실리콘밸리가 '신의 직장' 구글 노조 설립에 긴장하는 이유 https://news.naver.com/main/read.nhn?mode=LSD&mid=shm&sid1=104&oid=366&aid=0000647239\n",
      "42 새해 전야제 파티서 11명에 성폭행 사망…8명은 낯선 남자들이었다 https://news.naver.com/main/read.nhn?mode=LSD&mid=shm&sid1=104&oid=008&aid=0004524454\n",
      "43  https://news.naver.com/main/read.nhn?mode=LSD&mid=shm&sid1=105&oid=015&aid=0004479045\n",
      "44 화이자, 70년 만에 기업상징 알약 버리고 'DNA'로 바꿨다 https://news.naver.com/main/read.nhn?mode=LSD&mid=shm&sid1=105&oid=015&aid=0004479045\n",
      "45 알뜰폰 시장은 거꾸로 간다…LGU+ 가입자 증가율 1위 https://news.naver.com/main/read.nhn?mode=LSD&mid=shm&sid1=105&oid=015&aid=0004479037\n",
      "46 미 제재 무섭네…\"화웨이, 스마트폰 2위→7위 추락 전망\" https://news.naver.com/main/read.nhn?mode=LSD&mid=shm&sid1=105&oid=015&aid=0004479036\n",
      "47 '굵어질 것이냐 길어질 것이냐' 식물 뿌리의 선택 규명 https://news.naver.com/main/read.nhn?mode=LSD&mid=shm&sid1=105&oid=001&aid=0012122820\n",
      "48 SK이노베이션, 美 제2공장 투자 위한 그린론 조달 https://news.naver.com/main/read.nhn?mode=LSD&mid=shm&sid1=105&oid=030&aid=0002922050\n",
      "49 TSMC, 미국 이어 일본 공장 세우나…日 \"삼성도 환영\" https://news.naver.com/main/read.nhn?mode=LSD&mid=shm&sid1=105&oid=138&aid=0002097106\n",
      "50  https://news.naver.com/main/ranking/read.nhn?mode=LSD&mid=shm&sid1=001&oid=015&aid=0004478999&rankingType=RANKING\n",
      "51 황하나 또 구속 기로…사망한 남친 \"끝이야 아웃\" 현실되나 https://news.naver.com/main/ranking/read.nhn?mode=LSD&mid=shm&sid1=001&oid=015&aid=0004478999&rankingType=RANKING\n",
      "52  https://news.naver.com/main/ranking/read.nhn?mode=LSD&mid=shm&sid1=001&oid=052&aid=0001534812&rankingType=RANKING\n",
      "53 '시체인 줄'...네덜란드 경찰 \"트리 버릴 때 주의해달라 … https://news.naver.com/main/ranking/read.nhn?mode=LSD&mid=shm&sid1=001&oid=052&aid=0001534812&rankingType=RANKING\n",
      "54  https://news.naver.com/main/ranking/read.nhn?mode=LSD&mid=shm&sid1=001&oid=025&aid=0003067406&rankingType=RANKING\n",
      "55 \"레깅스는 일상복\" 무죄 뒤집었다…대법 \"몰카는 성범죄\" https://news.naver.com/main/ranking/read.nhn?mode=LSD&mid=shm&sid1=001&oid=025&aid=0003067406&rankingType=RANKING\n",
      "56 동영상기사 https://news.naver.com/main/ranking/read.nhn?mode=LSD&mid=shm&sid1=001&oid=214&aid=0001090778&rankingType=RANKING\n",
      "57 '3차 지원금' 문자 발송 시작…11일부터 지급 https://news.naver.com/main/ranking/read.nhn?mode=LSD&mid=shm&sid1=001&oid=214&aid=0001090778&rankingType=RANKING\n",
      "58  https://news.naver.com/main/ranking/read.nhn?mode=LSD&mid=shm&sid1=001&oid=437&aid=0000256140&rankingType=RANKING\n",
      "59 '정인이'로 돈벌이 나선 사람들…굿즈에 가게 홍보까지 https://news.naver.com/main/ranking/read.nhn?mode=LSD&mid=shm&sid1=001&oid=437&aid=0000256140&rankingType=RANKING\n",
      "60  https://news.naver.com/main/ranking/read.nhn?mode=LSD&mid=shm&sid1=001&oid=023&aid=0003588074&rankingType=RANKING\n",
      "61 [단독]정진석 “서울시장 경선 100% 여론조사로”...안 … https://news.naver.com/main/ranking/read.nhn?mode=LSD&mid=shm&sid1=001&oid=023&aid=0003588074&rankingType=RANKING\n",
      "62  https://news.naver.com/main/ranking/read.nhn?mode=LSD&mid=shm&sid1=001&oid=277&aid=0004823579&rankingType=RANKING\n",
      "63 [속보] 정부 \"3차 대유행 정점 지나 완만한 감소세…거리 … https://news.naver.com/main/ranking/read.nhn?mode=LSD&mid=shm&sid1=001&oid=277&aid=0004823579&rankingType=RANKING\n",
      "64  https://news.naver.com/main/ranking/read.nhn?mode=LSD&mid=shm&sid1=001&oid=009&aid=0004728263&rankingType=RANKING\n",
      "65 초등학생이 당뇨병·고혈압·지방간이라고?…원인 알아보니 https://news.naver.com/main/ranking/read.nhn?mode=LSD&mid=shm&sid1=001&oid=009&aid=0004728263&rankingType=RANKING\n",
      "66  https://news.naver.com/main/ranking/read.nhn?mode=LSD&mid=shm&sid1=001&oid=366&aid=0000646915&rankingType=RANKING\n",
      "67 코로나 신규 확진자 840명... 이틀연속 1000명 아래 … https://news.naver.com/main/ranking/read.nhn?mode=LSD&mid=shm&sid1=001&oid=366&aid=0000646915&rankingType=RANKING\n",
      "68  https://news.naver.com/main/ranking/read.nhn?mode=LSD&mid=shm&sid1=001&oid=293&aid=0000032728&rankingType=RANKING\n",
      "69 방송국의 갑질…최태성, SNS에 ‘일방적 섭외 취소’ 뒷이 … https://news.naver.com/main/ranking/read.nhn?mode=LSD&mid=shm&sid1=001&oid=293&aid=0000032728&rankingType=RANKING\n",
      "70  https://news.naver.com/main/ranking/read.nhn?mode=LSD&mid=shm&sid1=001&oid=262&aid=0000014097&rankingType=RANKING\n",
      "71 K방역 성공이 낳은 허황한 집단오류의 비극 https://news.naver.com/main/ranking/read.nhn?mode=LSD&mid=shm&sid1=001&oid=262&aid=0000014097&rankingType=RANKING\n",
      "72  https://news.naver.com/main/ranking/read.nhn?mode=LSD&mid=shm&sid1=001&oid=421&aid=0005091204&rankingType=RANKING\n",
      "73 홀트복지회 '정인아 미안해' 했다가 혼쭐…\"미안하면 다냐\" … https://news.naver.com/main/ranking/read.nhn?mode=LSD&mid=shm&sid1=001&oid=421&aid=0005091204&rankingType=RANKING\n",
      "74  https://news.naver.com/main/ranking/read.nhn?mode=LSD&mid=shm&sid1=001&oid=007&aid=0000006679&rankingType=RANKING\n",
      "75 “낯선 땅에서 일하다 죽게 될까 무섭습니다” https://news.naver.com/main/ranking/read.nhn?mode=LSD&mid=shm&sid1=001&oid=007&aid=0000006679&rankingType=RANKING\n",
      "76  https://news.naver.com/main/ranking/read.nhn?mode=LSD&mid=shm&sid1=001&oid=050&aid=0000056204&rankingType=RANKING\n",
      "77 주인 7번 바뀐 쌍용자동차…11년 만에 다시 생사기로에 https://news.naver.com/main/ranking/read.nhn?mode=LSD&mid=shm&sid1=001&oid=050&aid=0000056204&rankingType=RANKING\n",
      "78  https://news.naver.com/main/ranking/read.nhn?mode=LSD&mid=shm&sid1=001&oid=629&aid=0000061286&rankingType=RANKING\n",
      "79 변창흠 \"민간 아파트 늘릴 것\"…부동산 대책 기조 바뀌나 https://news.naver.com/main/ranking/read.nhn?mode=LSD&mid=shm&sid1=001&oid=629&aid=0000061286&rankingType=RANKING\n",
      "80  https://news.naver.com/main/ranking/read.nhn?mode=LSD&mid=shm&sid1=001&oid=028&aid=0002527354&rankingType=RANKING\n",
      "81 이란이 진짜 원하는 것은 한국의 코로나 백신 대리 구매? https://news.naver.com/main/ranking/read.nhn?mode=LSD&mid=shm&sid1=001&oid=028&aid=0002527354&rankingType=RANKING\n",
      "82  https://news.naver.com/main/ranking/read.nhn?mode=LSD&mid=shm&sid1=001&oid=011&aid=0003852114&rankingType=RANKING\n",
      "83 \"정인이 이용하다니···\" '정인아미안해' 굿즈에 네티즌  … https://news.naver.com/main/ranking/read.nhn?mode=LSD&mid=shm&sid1=001&oid=011&aid=0003852114&rankingType=RANKING\n",
      "84  https://news.naver.com/main/ranking/read.nhn?mode=LSD&mid=shm&sid1=001&oid=001&aid=0012122599&rankingType=RANKING\n",
      "85 서울 약 3년 만에 한파경보…저녁부터 눈 내리고 기온 '뚝 … https://news.naver.com/main/ranking/read.nhn?mode=LSD&mid=shm&sid1=001&oid=001&aid=0012122599&rankingType=RANKING\n",
      "86  https://news.naver.com/main/ranking/read.nhn?mode=LSD&mid=shm&sid1=001&oid=029&aid=0002647261&rankingType=RANKING\n",
      "87 이란 \"인질범은 바로 한국 정부…한국이 70억 달러 인질로 … https://news.naver.com/main/ranking/read.nhn?mode=LSD&mid=shm&sid1=001&oid=029&aid=0002647261&rankingType=RANKING\n",
      "88  https://news.naver.com/main/ranking/read.nhn?mode=LSD&mid=shm&sid1=001&oid=056&aid=0010965908&rankingType=RANKING\n",
      "89 정인이 진찰한 두 의사의 다른 판단…결국 놓친 마지막 기회 https://news.naver.com/main/ranking/read.nhn?mode=LSD&mid=shm&sid1=001&oid=056&aid=0010965908&rankingType=RANKING\n",
      "90  https://news.naver.com/main/ranking/read.nhn?mode=LSD&mid=shm&sid1=001&oid=448&aid=0000315645&rankingType=RANKING\n",
      "91 박영선 \"여권 상황 안좋아져…서울시장 출마 1월안에 결정\" https://news.naver.com/main/ranking/read.nhn?mode=LSD&mid=shm&sid1=001&oid=448&aid=0000315645&rankingType=RANKING\n",
      "92  https://news.naver.com/main/ranking/read.nhn?mode=LSD&mid=shm&sid1=001&oid=469&aid=0000569141&rankingType=RANKING\n",
      "93 [쓰러진 노동자 그후] 쓰러진 택배기사에 고객들 안타까움  … https://news.naver.com/main/ranking/read.nhn?mode=LSD&mid=shm&sid1=001&oid=469&aid=0000569141&rankingType=RANKING\n",
      "94  https://news.naver.com/main/ranking/read.nhn?mode=LSD&mid=shm&sid1=001&oid=640&aid=0000007648&rankingType=RANKING\n",
      "95 [THINK ENGLISH] 서울의 노포들이 코로나19로  … https://news.naver.com/main/ranking/read.nhn?mode=LSD&mid=shm&sid1=001&oid=640&aid=0000007648&rankingType=RANKING\n",
      "96  https://news.naver.com/main/ranking/read.nhn?mode=LSD&mid=shm&sid1=001&oid=092&aid=0002209882&rankingType=RANKING\n",
      "97 세계 최초 'LG 롤러블폰', CES서 맛보기 등장 https://news.naver.com/main/ranking/read.nhn?mode=LSD&mid=shm&sid1=001&oid=092&aid=0002209882&rankingType=RANKING\n",
      "98  https://news.naver.com/main/ranking/read.nhn?mode=LSD&mid=shm&sid1=001&oid=020&aid=0003330687&rankingType=RANKING\n",
      "99 청와대 향하는 원전수사…정권말 ‘핵폭탄’ 되나 https://news.naver.com/main/ranking/read.nhn?mode=LSD&mid=shm&sid1=001&oid=020&aid=0003330687&rankingType=RANKING\n",
      "100  https://news.naver.com/main/ranking/read.nhn?mode=LSD&mid=shm&sid1=001&oid=005&aid=0001398121&rankingType=RANKING\n",
      "101 학대 알고도 “잘있다”… 홀트 ‘정인아 미안해’ 글 내려 https://news.naver.com/main/ranking/read.nhn?mode=LSD&mid=shm&sid1=001&oid=005&aid=0001398121&rankingType=RANKING\n",
      "102  https://news.naver.com/main/ranking/read.nhn?mode=LSD&mid=shm&sid1=001&oid=057&aid=0001536233&rankingType=RANKING\n",
      "103 추근거리다 갑자기…버스에서 바지 벗은 남고생 입건 https://news.naver.com/main/ranking/read.nhn?mode=LSD&mid=shm&sid1=001&oid=057&aid=0001536233&rankingType=RANKING\n",
      "104  https://news.naver.com/main/ranking/read.nhn?mode=LSD&mid=shm&sid1=001&oid=016&aid=0001774795&rankingType=RANKING\n",
      "105 [단독] ‘천안 의붓아들 살해 계모’ 변호인, 정인이 양모 … https://news.naver.com/main/ranking/read.nhn?mode=LSD&mid=shm&sid1=001&oid=016&aid=0001774795&rankingType=RANKING\n",
      "106  https://news.naver.com/main/ranking/read.nhn?mode=LSD&mid=shm&sid1=001&oid=081&aid=0003153583&rankingType=RANKING\n",
      "107 “이명박·박근혜 사면하자”…찬성 47.7% vs 반대 48 … https://news.naver.com/main/ranking/read.nhn?mode=LSD&mid=shm&sid1=001&oid=081&aid=0003153583&rankingType=RANKING\n",
      "108  https://news.naver.com/main/ranking/read.nhn?mode=LSD&mid=shm&sid1=001&oid=031&aid=0000577630&rankingType=RANKING\n",
      "109 정세균 총리 \"헬스장 금지·태권도장 허용…'형평성' 보완하 … https://news.naver.com/main/ranking/read.nhn?mode=LSD&mid=shm&sid1=001&oid=031&aid=0000577630&rankingType=RANKING\n",
      "110  https://news.naver.com/main/ranking/read.nhn?mode=LSD&mid=shm&sid1=001&oid=215&aid=0000927496&rankingType=RANKING\n",
      "111 [속보] 헬스장 영업제한 풀리나…\"방역조치 보완\" https://news.naver.com/main/ranking/read.nhn?mode=LSD&mid=shm&sid1=001&oid=215&aid=0000927496&rankingType=RANKING\n",
      "112  https://news.naver.com/main/ranking/read.nhn?mode=LSD&mid=shm&sid1=001&oid=308&aid=0000028093&rankingType=RANKING\n",
      "113 시장이 모르는 목숨값, 규제로 알려주자 https://news.naver.com/main/ranking/read.nhn?mode=LSD&mid=shm&sid1=001&oid=308&aid=0000028093&rankingType=RANKING\n",
      "114  https://news.naver.com/main/ranking/read.nhn?mode=LSD&mid=shm&sid1=001&oid=094&aid=0000008748&rankingType=RANKING\n",
      "115 ['흰소의 해' 특집 소백산 르포] 매운 북서풍 맞으며 무 … https://news.naver.com/main/ranking/read.nhn?mode=LSD&mid=shm&sid1=001&oid=094&aid=0000008748&rankingType=RANKING\n",
      "116  https://news.naver.com/main/ranking/read.nhn?mode=LSD&mid=shm&sid1=001&oid=022&aid=0003539978&rankingType=RANKING\n",
      "117 예능 출연 후 출마선언하나…박영선 “상황이 안좋아져서 가능 … https://news.naver.com/main/ranking/read.nhn?mode=LSD&mid=shm&sid1=001&oid=022&aid=0003539978&rankingType=RANKING\n",
      "118  https://news.naver.com/main/ranking/read.nhn?mode=LSD&mid=shm&sid1=001&oid=006&aid=0000106188&rankingType=RANKING\n",
      "119 1년 3개월 전 서민흉내 비난받던 윤석열 순대국 띄우기 https://news.naver.com/main/ranking/read.nhn?mode=LSD&mid=shm&sid1=001&oid=006&aid=0000106188&rankingType=RANKING\n",
      "120  https://news.naver.com/main/ranking/read.nhn?mode=LSD&mid=shm&sid1=001&oid=032&aid=0003052584&rankingType=RANKING\n",
      "121 \"트램이 스러져가던 도심을 살렸다\"...트램의 놀라운 도시 … https://news.naver.com/main/ranking/read.nhn?mode=LSD&mid=shm&sid1=001&oid=032&aid=0003052584&rankingType=RANKING\n",
      "122  https://news.naver.com/main/ranking/read.nhn?mode=LSD&mid=shm&sid1=001&oid=138&aid=0002097079&rankingType=RANKING\n",
      "123 LGD, 대형 OLED ‘속도 조절’…OLED TV 성장  … https://news.naver.com/main/ranking/read.nhn?mode=LSD&mid=shm&sid1=001&oid=138&aid=0002097079&rankingType=RANKING\n",
      "124 동영상기사 https://news.naver.com/main/ranking/read.nhn?mode=LSD&mid=shm&sid1=001&oid=055&aid=0000865820&rankingType=RANKING\n",
      "125 [영상] 1초만 늦었어도 '아찔'…경찰이 이마 친 이유 https://news.naver.com/main/ranking/read.nhn?mode=LSD&mid=shm&sid1=001&oid=055&aid=0000865820&rankingType=RANKING\n",
      "126  https://news.naver.com/main/ranking/read.nhn?mode=LSD&mid=shm&sid1=001&oid=417&aid=0000640733&rankingType=RANKING\n",
      "127 백만장자 2세, 몸에 쇠사슬 묶어 강물에 투신… '마약복용 … https://news.naver.com/main/ranking/read.nhn?mode=LSD&mid=shm&sid1=001&oid=417&aid=0000640733&rankingType=RANKING\n",
      "128  https://news.naver.com/main/ranking/read.nhn?mode=LSD&mid=shm&sid1=001&oid=003&aid=0010279000&rankingType=RANKING\n",
      "129 이란 \"韓선박 나포는 기술적 문제…韓정부 대응 이해 불가\" https://news.naver.com/main/ranking/read.nhn?mode=LSD&mid=shm&sid1=001&oid=003&aid=0010279000&rankingType=RANKING\n",
      "130 동영상기사 https://news.naver.com/main/ranking/read.nhn?mode=LSD&mid=shm&sid1=001&oid=422&aid=0000465128&rankingType=RANKING\n",
      "131 '레깅스 몰카' 결국 유죄…\"성적수치심 유발\" https://news.naver.com/main/ranking/read.nhn?mode=LSD&mid=shm&sid1=001&oid=422&aid=0000465128&rankingType=RANKING\n",
      "132  https://news.naver.com/main/ranking/read.nhn?mode=LSD&mid=shm&sid1=001&oid=079&aid=0003451497&rankingType=RANKING\n",
      "133 \"中 백신 세계에서 가장 위험\"…中 전문가 주장 파장 https://news.naver.com/main/ranking/read.nhn?mode=LSD&mid=shm&sid1=001&oid=079&aid=0003451497&rankingType=RANKING\n",
      "134  https://news.naver.com/main/ranking/read.nhn?mode=LSD&mid=shm&sid1=001&oid=087&aid=0000827637&rankingType=RANKING\n",
      "135 \"스스로 노출한 부위라도 몰래 촬영하면 성범죄\"…레깅스 여 … https://news.naver.com/main/ranking/read.nhn?mode=LSD&mid=shm&sid1=001&oid=087&aid=0000827637&rankingType=RANKING\n",
      "136  https://news.naver.com/main/ranking/read.nhn?mode=LSD&mid=shm&sid1=001&oid=036&aid=0000044227&rankingType=RANKING\n",
      "137 [역사 속 공간] 사람의 진면목은 설추위 겪어봐야 안다 https://news.naver.com/main/ranking/read.nhn?mode=LSD&mid=shm&sid1=001&oid=036&aid=0000044227&rankingType=RANKING\n",
      "138 동영상기사 https://news.naver.com/main/ranking/read.nhn?mode=LSD&mid=shm&sid1=001&oid=449&aid=0000202684&rankingType=RANKING\n",
      "139 ‘방임 혐의’ 아버지 앞에 두고…의사에게 학대 여부 조사 https://news.naver.com/main/ranking/read.nhn?mode=LSD&mid=shm&sid1=001&oid=449&aid=0000202684&rankingType=RANKING\n",
      "140  https://news.naver.com/main/ranking/read.nhn?mode=LSD&mid=shm&sid1=001&oid=008&aid=0004524389&rankingType=RANKING\n",
      "141 정인이 묻어준 목사 \"펑펑 울던 양부 모습, 사고사인 줄  … https://news.naver.com/main/ranking/read.nhn?mode=LSD&mid=shm&sid1=001&oid=008&aid=0004524389&rankingType=RANKING\n",
      "142  https://news.naver.com/main/ranking/read.nhn?mode=LSD&mid=shm&sid1=001&oid=127&aid=0000030474&rankingType=RANKING\n",
      "143 \"다시, 현장으로 돌아가고 싶습니다\" https://news.naver.com/main/ranking/read.nhn?mode=LSD&mid=shm&sid1=001&oid=127&aid=0000030474&rankingType=RANKING\n",
      "144  https://news.naver.com/main/ranking/read.nhn?mode=LSD&mid=shm&sid1=001&oid=047&aid=0002297833&rankingType=RANKING\n",
      "145 16개월 만에 다시 뜬 '윤석열 순댓국' 영상, 살펴보니 https://news.naver.com/main/ranking/read.nhn?mode=LSD&mid=shm&sid1=001&oid=047&aid=0002297833&rankingType=RANKING\n",
      "146  https://news.naver.com/main/ranking/read.nhn?mode=LSD&mid=shm&sid1=001&oid=123&aid=0002237593&rankingType=RANKING\n",
      "147 '3차 재난지원금' 오늘부터 안내문자…11일부터 지급 https://news.naver.com/main/ranking/read.nhn?mode=LSD&mid=shm&sid1=001&oid=123&aid=0002237593&rankingType=RANKING\n",
      "148  https://news.naver.com/main/ranking/read.nhn?mode=LSD&mid=shm&sid1=001&oid=024&aid=0000067227&rankingType=RANKING\n",
      "149 광화문 옆 1만2000가구 ‘미니 신도시’ https://news.naver.com/main/ranking/read.nhn?mode=LSD&mid=shm&sid1=001&oid=024&aid=0000067227&rankingType=RANKING\n",
      "150  https://news.naver.com/main/ranking/read.nhn?mode=LSD&mid=shm&sid1=001&oid=243&aid=0000011527&rankingType=RANKING\n",
      "151 [이재명의 ‘배달특급’ 시행 한달 성적표는?] 화성·파주· … https://news.naver.com/main/ranking/read.nhn?mode=LSD&mid=shm&sid1=001&oid=243&aid=0000011527&rankingType=RANKING\n",
      "152  https://news.naver.com/main/ranking/read.nhn?mode=LSD&mid=shm&sid1=001&oid=353&aid=0000038666&rankingType=RANKING\n",
      "153 \"포스트코로나시대, 예술로 희망을 쏘다!\" 아트시그널 고! … https://news.naver.com/main/ranking/read.nhn?mode=LSD&mid=shm&sid1=001&oid=353&aid=0000038666&rankingType=RANKING\n",
      "154  https://news.naver.com/main/ranking/read.nhn?mode=LSD&mid=shm&sid1=001&oid=053&aid=0000028424&rankingType=RANKING\n",
      "155 대통령 레임덕의 함수, ‘부정평가’ 55% 넘는 순간… https://news.naver.com/main/ranking/read.nhn?mode=LSD&mid=shm&sid1=001&oid=053&aid=0000028424&rankingType=RANKING\n",
      "156  https://news.naver.com/main/ranking/read.nhn?mode=LSD&mid=shm&sid1=001&oid=296&aid=0000047975&rankingType=RANKING\n",
      "157 많이 안 먹는데…체중 증가의 숨은 이유 8 https://news.naver.com/main/ranking/read.nhn?mode=LSD&mid=shm&sid1=001&oid=296&aid=0000047975&rankingType=RANKING\n",
      "158  https://news.naver.com/main/ranking/read.nhn?mode=LSD&mid=shm&sid1=001&oid=030&aid=0002922000&rankingType=RANKING\n",
      "159 애플 에어팟 맥스, 29일 국내 출시... 사전예약 '1분 … https://news.naver.com/main/ranking/read.nhn?mode=LSD&mid=shm&sid1=001&oid=030&aid=0002922000&rankingType=RANKING\n",
      "160  https://news.naver.com/main/ranking/read.nhn?mode=LSD&mid=shm&sid1=001&oid=088&aid=0000680554&rankingType=RANKING\n",
      "161 마스크 거꾸로 착용한 文 대통령…누리꾼들 \"그간 마스크 안 … https://news.naver.com/main/ranking/read.nhn?mode=LSD&mid=shm&sid1=001&oid=088&aid=0000680554&rankingType=RANKING\n",
      "162  https://news.naver.com/main/ranking/read.nhn?mode=LSD&mid=shm&sid1=001&oid=021&aid=0002455636&rankingType=RANKING\n",
      "163 비서실장 거론되던 양정철 끝내 미국행 https://news.naver.com/main/ranking/read.nhn?mode=LSD&mid=shm&sid1=001&oid=021&aid=0002455636&rankingType=RANKING\n",
      "164  https://news.naver.com/main/ranking/read.nhn?mode=LSD&mid=shm&sid1=001&oid=584&aid=0000012207&rankingType=RANKING\n",
      "165 코로나19 국내 신규확진 840명 이틀 연속 1000명 미 … https://news.naver.com/main/ranking/read.nhn?mode=LSD&mid=shm&sid1=001&oid=584&aid=0000012207&rankingType=RANKING\n",
      "166  https://news.naver.com/main/ranking/read.nhn?mode=LSD&mid=shm&sid1=001&oid=586&aid=0000019829&rankingType=RANKING\n",
      "167 한국과 인구 유사한 영국은 어쩌다 코로나에 무릎 꿇었나 https://news.naver.com/main/ranking/read.nhn?mode=LSD&mid=shm&sid1=001&oid=586&aid=0000019829&rankingType=RANKING\n",
      "168  https://news.naver.com/main/ranking/read.nhn?mode=LSD&mid=shm&sid1=001&oid=033&aid=0000042080&rankingType=RANKING\n",
      "169 경쟁 택한 김하성, 주전 차지할까 https://news.naver.com/main/ranking/read.nhn?mode=LSD&mid=shm&sid1=001&oid=033&aid=0000042080&rankingType=RANKING\n",
      "170  https://news.naver.com/main/ranking/read.nhn?mode=LSD&mid=shm&sid1=001&oid=018&aid=0004822571&rankingType=RANKING\n",
      "171 서울 신규 확진 264명…장례식장서 또 무더기 감염(종합) https://news.naver.com/main/ranking/read.nhn?mode=LSD&mid=shm&sid1=001&oid=018&aid=0004822571&rankingType=RANKING\n",
      "172  https://news.naver.com/main/ranking/read.nhn?mode=LSD&mid=shm&sid1=001&oid=014&aid=0004559870&rankingType=RANKING\n",
      "173 나경원 박영선 '아내의 맛' 출연  \"부적절, 당장 중단\" … https://news.naver.com/main/ranking/read.nhn?mode=LSD&mid=shm&sid1=001&oid=014&aid=0004559870&rankingType=RANKING\n",
      "174  https://news.naver.com/main/ranking/read.nhn?mode=LSD&mid=shm&sid1=001&oid=119&aid=0002458054&rankingType=RANKING\n",
      "175 박범계 폭행 논란 '목격자' 등장…가세연서 \"읍소했는데도  … https://news.naver.com/main/ranking/read.nhn?mode=LSD&mid=shm&sid1=001&oid=119&aid=0002458054&rankingType=RANKING\n",
      "176  https://news.naver.com/main/ranking/read.nhn?mode=LSD&mid=shm&sid1=001&oid=082&aid=0001057599&rankingType=RANKING\n",
      "177 [속보] 정부 \"헬스장 등 실내체육시설 방역조치 보완하겠다 … https://news.naver.com/main/ranking/read.nhn?mode=LSD&mid=shm&sid1=001&oid=082&aid=0001057599&rankingType=RANKING\n",
      "178  https://news.naver.com/main/ranking/read.nhn?mode=LSD&mid=shm&sid1=001&oid=346&aid=0000036547&rankingType=RANKING\n",
      "179 세월 못 피하는 목주름? 펴는 방법 있다 https://news.naver.com/main/ranking/read.nhn?mode=LSD&mid=shm&sid1=001&oid=346&aid=0000036547&rankingType=RANKING\n",
      "180 동영상기사 https://news.naver.com/main/ranking/read.nhn?mode=LSD&mid=shm&sid1=001&oid=374&aid=0000229847&rankingType=RANKING\n",
      "181 [단독] 참이슬·진로이즈백 대란…공급대란에 CU 주문중단  … https://news.naver.com/main/ranking/read.nhn?mode=LSD&mid=shm&sid1=001&oid=374&aid=0000229847&rankingType=RANKING\n",
      "182  https://news.naver.com/main/ranking/read.nhn?mode=LSD&mid=shm&sid1=001&oid=310&aid=0000082943&rankingType=RANKING\n",
      "183 '레깅스 여성 불법촬영' 무죄 받은 남성, 대법원서 유죄 https://news.naver.com/main/ranking/read.nhn?mode=LSD&mid=shm&sid1=001&oid=310&aid=0000082943&rankingType=RANKING\n",
      "184  https://news.naver.com/main/ranking/read.nhn?mode=LSD&mid=shm&sid1=001&oid=037&aid=0000028622&rankingType=RANKING\n",
      "185 미국이 4월까지 보류한 아스트라제네카, 인도와 남미에선 입 … https://news.naver.com/main/ranking/read.nhn?mode=LSD&mid=shm&sid1=001&oid=037&aid=0000028622&rankingType=RANKING\n",
      "186  https://news.naver.com/main/ranking/read.nhn?mode=LSD&mid=shm&sid1=001&oid=002&aid=0002166894&rankingType=RANKING\n",
      "187 \"헤어진 남친이 '사진이 있다'며 성관계 요구...전 패닉 … https://news.naver.com/main/ranking/read.nhn?mode=LSD&mid=shm&sid1=001&oid=002&aid=0002166894&rankingType=RANKING\n",
      "188  https://news.naver.com/main/ranking/read.nhn?mode=LSD&mid=shm&sid1=001&oid=044&aid=0000224566&rankingType=RANKING\n",
      "189 54 violations of quarantine meas … https://news.naver.com/main/ranking/read.nhn?mode=LSD&mid=shm&sid1=001&oid=044&aid=0000224566&rankingType=RANKING\n"
     ]
    }
   ],
   "source": [
    "# res.status_code == 200\n",
    "if res.ok:\n",
    "    # Response 객체에서 텍스트를 추출\n",
    "    html = res.text\n",
    "    #print(html)\n",
    "    soup = BeautifulSoup(html, 'html.parser')\n",
    "    #print(soup)\n",
    "    atag_list =soup.select(\"a[href*='read.nhn']\") \n",
    "    print(type(atag_list), len(atag_list))\n",
    "    #print(atag_list)\n",
    "    for idx, atag in enumerate(atag_list, 1):\n",
    "        title = atag.text.strip()\n",
    "        link = urljoin(url, atag['href'])\n",
    "        print(idx, title, link)\n",
    "    "
   ]
  },
  {
   "cell_type": "markdown",
   "metadata": {},
   "source": [
    "### Papago 번역 API 호출\n",
    "* urllib 를 사용한 예제코드"
   ]
  },
  {
   "cell_type": "code",
   "execution_count": 15,
   "metadata": {},
   "outputs": [
    {
     "name": "stdout",
     "output_type": "stream",
     "text": [
      "{\"message\":{\"@type\":\"response\",\"@service\":\"naverservice.nmt.proxy\",\"@version\":\"1.0.0\",\"result\":{\"srcLangType\":\"en\",\"tarLangType\":\"ko\",\"translatedText\":\"어제 나의 모든 걱정은 너무 멀리 있는 것 같다.\",\"engineType\":\"N2MT\",\"pivot\":null}}}\n"
     ]
    }
   ],
   "source": [
    "# 네이버 Papago NMT API 예제\n",
    "import os\n",
    "import sys\n",
    "import urllib.request\n",
    "\n",
    "client_id = \"ZzyBY635Yl2U3JjFzNt2\"\n",
    "client_secret = \"AEKs6skA8R\"\n",
    "encText = urllib.parse.quote(\"Yesterday all my troubles seemed so far away.\")\n",
    "data = \"source=en&target=ko&text=\" + encText\n",
    "url = \"https://openapi.naver.com/v1/papago/n2mt\"\n",
    "request = urllib.request.Request(url)\n",
    "request.add_header(\"X-Naver-Client-Id\",client_id)\n",
    "request.add_header(\"X-Naver-Client-Secret\",client_secret)\n",
    "response = urllib.request.urlopen(request, data=data.encode(\"utf-8\"))\n",
    "rescode = response.getcode()\n",
    "if(rescode==200):\n",
    "    response_body = response.read()\n",
    "    print(response_body.decode('utf-8'))\n",
    "else:\n",
    "    print(\"Error Code:\" + rescode)"
   ]
  },
  {
   "cell_type": "code",
   "execution_count": 16,
   "metadata": {},
   "outputs": [
    {
     "name": "stdout",
     "output_type": "stream",
     "text": [
      "번역할 영문장을 입력하세요 : hello\n",
      "True 200\n",
      "요청 헤더  {'User-Agent': 'python-requests/2.24.0', 'Accept-Encoding': 'gzip, deflate', 'Accept': '*/*', 'Connection': 'keep-alive', 'X-Naver-Client-Id': 'ZzyBY635Yl2U3JjFzNt2', 'X-Naver-Client-Secret': 'AEKs6skA8R', 'Content-Length': '30', 'Content-Type': 'application/x-www-form-urlencoded'}\n",
      "응답 헤더  {'Server': 'nginx', 'Date': 'Wed, 06 Jan 2021 04:34:13 GMT', 'Content-Type': 'application/json; charset=UTF-8', 'Content-Length': '168', 'Connection': 'keep-alive', 'Keep-Alive': 'timeout=5', 'X-QUOTA': '5', 'Content-Encoding': 'gzip'}\n",
      "<class 'str'> {\"message\":{\"@type\":\"response\",\"@service\":\"naverservice.nmt.proxy\",\"@version\":\"1.0.0\",\"result\":{\"srcLangType\":\"en\",\"tarLangType\":\"ko\",\"translatedText\":\"안녕\",\"engineType\":\"PRETRANS\",\"pivot\":null}}}\n"
     ]
    }
   ],
   "source": [
    "import requests\n",
    "\n",
    "client_id = \"ZzyBY635Yl2U3JjFzNt2\"\n",
    "client_secret = \"AEKs6skA8R\"\n",
    "url = \"https://openapi.naver.com/v1/papago/n2mt\"\n",
    "enc_text = \"\"\n",
    "print(\"번역할 영문장을 입력하세요 : \", end = \"\")\n",
    "enc_text = input()\n",
    "\n",
    "req_header = {\n",
    "    \"X-Naver-Client-Id\": client_id,\n",
    "    \"X-Naver-Client-Secret\": client_secret\n",
    "}\n",
    "req_param = {\n",
    "    \"source\": \"en\",\n",
    "    \"target\": \"ko\",\n",
    "    \"text\" : enc_text\n",
    "}\n",
    "res = requests.post(url, data=req_param, headers=req_header)\n",
    "print(res.ok, res.status_code)\n",
    "print('요청 헤더 ',res.request.headers)\n",
    "print('응답 헤더 ',res.headers)\n",
    "\n",
    "if res.ok:\n",
    "    print(type(res.text), res.text)\n",
    "else:\n",
    "    print('http status code', res.status)"
   ]
  },
  {
   "cell_type": "code",
   "execution_count": 17,
   "metadata": {
    "scrolled": true
   },
   "outputs": [
    {
     "name": "stdout",
     "output_type": "stream",
     "text": [
      "<class 'dict'> {'message': {'@type': 'response', '@service': 'naverservice.nmt.proxy', '@version': '1.0.0', 'result': {'srcLangType': 'en', 'tarLangType': 'ko', 'translatedText': '안녕', 'engineType': 'PRETRANS', 'pivot': None}}}\n",
      "안녕\n"
     ]
    }
   ],
   "source": [
    "result_json = res.json()\n",
    "print(type(result_json), result_json)\n",
    "result_text = result_json['message']['result']['translatedText']\n",
    "print(result_text)"
   ]
  },
  {
   "cell_type": "markdown",
   "metadata": {},
   "source": [
    "### 웹툰 Image 다운로드"
   ]
  },
  {
   "cell_type": "code",
   "execution_count": 18,
   "metadata": {},
   "outputs": [
    {
     "name": "stdout",
     "output_type": "stream",
     "text": [
      "True\n",
      "Writing to 20201221212625_b2bc8a16b5090eff701a39cf4b55310b_IMAG01_1.jpg   |  249235 bytes\n",
      "True\n",
      "Writing to 20201221212625_b2bc8a16b5090eff701a39cf4b55310b_IMAG01_2.jpg   |  148417 bytes\n",
      "True\n",
      "Writing to 20201221212625_b2bc8a16b5090eff701a39cf4b55310b_IMAG01_3.jpg   |  89124 bytes\n"
     ]
    }
   ],
   "source": [
    "import requests\n",
    "import os\n",
    "\n",
    "req_header = {\n",
    "    'referer': 'https://comic.naver.com/webtoon/detail.nhn?titleId=703852&no=132&weekday=tue'\n",
    "}\n",
    "\n",
    "img_url_list = [\n",
    "    'https://image-comic.pstatic.net/webtoon/703852/132/20201221212625_b2bc8a16b5090eff701a39cf4b55310b_IMAG01_1.jpg',\n",
    "    'https://image-comic.pstatic.net/webtoon/703852/132/20201221212625_b2bc8a16b5090eff701a39cf4b55310b_IMAG01_2.jpg',\n",
    "    'https://image-comic.pstatic.net/webtoon/703852/132/20201221212625_b2bc8a16b5090eff701a39cf4b55310b_IMAG01_3.jpg'\n",
    "]\n",
    "\n",
    "for img_url in img_url_list:\n",
    "    res = requests.get(img_url, headers=req_header)\n",
    "    print(res.ok)\n",
    "\n",
    "    if res.ok:\n",
    "        # Response 객체에서 binary 데이터를 가져올때는 content 속성을 사용\n",
    "        img_data = res.content\n",
    "        file_name = os.path.basename(img_url)\n",
    "        with open(f'data/{file_name}', 'wb') as file:\n",
    "            print(f'Writing to {file_name}   |  {len(img_data)} bytes')\n",
    "            file.write(img_data)"
   ]
  }
 ],
 "metadata": {
  "kernelspec": {
   "display_name": "Python 3",
   "language": "python",
   "name": "python3"
  },
  "language_info": {
   "codemirror_mode": {
    "name": "ipython",
    "version": 3
   },
   "file_extension": ".py",
   "mimetype": "text/x-python",
   "name": "python",
   "nbconvert_exporter": "python",
   "pygments_lexer": "ipython3",
   "version": "3.8.5"
  }
 },
 "nbformat": 4,
 "nbformat_minor": 4
}
