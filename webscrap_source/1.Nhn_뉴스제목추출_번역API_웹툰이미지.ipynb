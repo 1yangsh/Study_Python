{
 "cells": [
  {
   "cell_type": "code",
   "execution_count": 30,
   "metadata": {},
   "outputs": [],
   "source": [
    "import requests\n",
    "from bs4 import BeautifulSoup\n",
    "from urllib.parse import urljoin"
   ]
  },
  {
   "cell_type": "markdown",
   "metadata": {},
   "source": [
    "### 네이버 뉴스 제목 추출"
   ]
  },
  {
   "cell_type": "code",
   "execution_count": 65,
   "metadata": {},
   "outputs": [
    {
     "name": "stdout",
     "output_type": "stream",
     "text": [
      "<class 'requests.models.Response'>\n",
      "200\n",
      "response header = {'date': 'Tue, 05 Jan 2021 09:07:42 GMT', 'cache-control': 'no-cache', 'expires': 'Thu, 01 Jan 1970 00:00:00 GMT', 'set-cookie': 'JSESSIONID=4C0E04A744A2F1C25C2A04AA34BB84D6; Path=/main; HttpOnly', 'content-language': 'ko-KR', 'vary': 'Accept-Encoding', 'content-encoding': 'gzip', 'transfer-encoding': 'chunked', 'content-type': 'text/html;charset=EUC-KR', 'referrer-policy': 'unsafe-url', 'server': 'nfront'}\n",
      "request header = {'user-agent': 'Mozilla/5.0 (Windows NT 10.0; Win64; x64) AppleWebKit/537.36 (KHTML, like Gecko) Chrome/87.0.4280.88 Safari/537.36', 'Accept-Encoding': 'gzip, deflate', 'Accept': '*/*', 'Connection': 'keep-alive'}\n"
     ]
    }
   ],
   "source": [
    "url = 'https://news.naver.com/'\n",
    "req_header = {\n",
    "    'user-agent': 'Mozilla/5.0 (Windows NT 10.0; Win64; x64) AppleWebKit/537.36 (KHTML, like Gecko) Chrome/87.0.4280.88 Safari/537.36'\n",
    "}\n",
    "res = requests.get(url, headers=req_header)\n",
    "print(type(res))\n",
    "print(res.status_code)\n",
    "print(f'response header = {res.headers}')\n",
    "print(f'request header = {res.request.headers}')"
   ]
  },
  {
   "cell_type": "code",
   "execution_count": 66,
   "metadata": {},
   "outputs": [
    {
     "name": "stdout",
     "output_type": "stream",
     "text": [
      "<class 'bs4.element.ResultSet'> 187\n",
      "1 '국민연금 반대'에 놀란 대한항공, 소액주주 표… https://news.naver.com/main/read.nhn?mode=LSD&mid=shm&sid1=101&oid=025&aid=0003067170\n",
      "2 \"박원순 피소 유출 없었다\" 남인순 해명에…정의… https://news.naver.com/main/read.nhn?mode=LSD&mid=shm&sid1=100&oid=421&aid=0005089899\n",
      "3 박범계 '고시생 폭행' 의혹에 \"제가 당할 뻔\" vs \"변명\"(종합) https://news.naver.com/main/read.nhn?mode=LSD&mid=shm&sid1=102&oid=421&aid=0005089928\n",
      "4 이란, 고위급 교류 협의중 왜 선박 억류했나…'미국 겨냥' 무게(종합) https://news.naver.com/main/read.nhn?mode=LSD&mid=shm&sid1=100&oid=001&aid=0012121345\n",
      "5 \"한국에 묶인 돈 10조로 백신 구입\"…나포 '속셈' 드러낸 이란 https://news.naver.com/main/read.nhn?mode=LSD&mid=shm&sid1=100&oid=015&aid=0004478520\n",
      "6 뉴욕증시 '中 통신사 퇴출' 철회···美, 對中압박 완화 계기 될까 https://news.naver.com/main/read.nhn?mode=LSD&mid=shm&sid1=101&oid=011&aid=0003851858\n",
      "7 전국 집값 9년 만에 최대 상승...서울 입주물량 34%↓ https://news.naver.com/main/read.nhn?mode=LSD&mid=shm&sid1=101&oid=052&aid=0001534503\n",
      "8  https://news.naver.com/main/read.nhn?mode=LSD&mid=shm&sid1=100&oid=047&aid=0002297775\n",
      "9 민주당 \"전봉민 일가 비리 의혹, 제보 쏟아진다\" https://news.naver.com/main/read.nhn?mode=LSD&mid=shm&sid1=100&oid=047&aid=0002297775\n",
      "10 \"서울시장 양자대결…안철수 47.4% vs 박영선 37.0%\" https://news.naver.com/main/read.nhn?mode=LSD&mid=shm&sid1=100&oid=001&aid=0012121382\n",
      "11 선거 앞두고 나온 ‘사면 카드’…文이 치른 7번 선거의 비밀 https://news.naver.com/main/read.nhn?mode=LSD&mid=shm&sid1=100&oid=025&aid=0003067182\n",
      "12 [영상]이란 치밀한 나포 계획? 함정 5척에 헬기까지 띄웠다 https://news.naver.com/main/read.nhn?mode=LSD&mid=shm&sid1=100&oid=025&aid=0003067179\n",
      "13 코로나 확산 시국에 부산시정 투톱, 여야 갈라져 보선 출전? https://news.naver.com/main/read.nhn?mode=LSD&mid=shm&sid1=100&oid=001&aid=0012121376\n",
      "14 안철수 \"시장과 싸우는 文정권…세금 낼 사람 사라지고 있다\" https://news.naver.com/main/read.nhn?mode=LSD&mid=shm&sid1=100&oid=015&aid=0004478631\n",
      "15  https://news.naver.com/main/read.nhn?mode=LSD&mid=shm&sid1=101&oid=011&aid=0003851879\n",
      "16 [단독/시그널] 두산퓨얼셀 오너家 잔여 지분 블록딜···3,000억 규모 https://news.naver.com/main/read.nhn?mode=LSD&mid=shm&sid1=101&oid=011&aid=0003851879\n",
      "17 \"디스플레이 OLED로 대전환\"…장비株 들썩 https://news.naver.com/main/read.nhn?mode=LSD&mid=shm&sid1=101&oid=015&aid=0004478652\n",
      "18 카이스트 교수팀, ‘성인의 뇌 기억 유지’ 새로운 방식 ‘네이처’ 실려 https://news.naver.com/main/read.nhn?mode=LSD&mid=shm&sid1=101&oid=028&aid=0002527286\n",
      "19 변창흠 \"분양아파트 중심, 혁신적 주택 공급 '패스트트랙' 도입\"(종합) https://news.naver.com/main/read.nhn?mode=LSD&mid=shm&sid1=101&oid=421&aid=0005089976\n",
      "20 민주당 때문에 주가 10% 빠진다고?…빅테크 vs 친환경, 승자는? [이지효의 플러스 PICK] https://news.naver.com/main/read.nhn?mode=LSD&mid=shm&sid1=101&oid=215&aid=0000927301\n",
      "21 ‘K배터리’ 탑재 전기차 상반기 대거 출격… 시장 점유율 확대 https://news.naver.com/main/read.nhn?mode=LSD&mid=shm&sid1=101&oid=014&aid=0004559384\n",
      "22  https://news.naver.com/main/read.nhn?mode=LSD&mid=shm&sid1=102&oid=081&aid=0003153371\n",
      "23 보름 만에 또 멈춰선 김포골드라인…승객들 50분간 불편 https://news.naver.com/main/read.nhn?mode=LSD&mid=shm&sid1=102&oid=081&aid=0003153371\n",
      "24 [단독] '쥐불놀이' 강아지 학대한 20대 여성, 경찰에 범행 시인 https://news.naver.com/main/read.nhn?mode=LSD&mid=shm&sid1=102&oid=469&aid=0000568932\n",
      "25 견디다 못한 자영업자들 \"굶어죽을 판\"…정부는 \"참아달라\" https://news.naver.com/main/read.nhn?mode=LSD&mid=shm&sid1=102&oid=015&aid=0004478654\n",
      "26 \"왜 우리만\" 문 연 헬스장 … \"고충 알아\" 단속 안하는 지자체 https://news.naver.com/main/read.nhn?mode=LSD&mid=shm&sid1=102&oid=014&aid=0004559390\n",
      "27 고객 먹을 마카롱 맨발에 올리고 생중계…도넘은 백화점 직원 https://news.naver.com/main/read.nhn?mode=LSD&mid=shm&sid1=102&oid=119&aid=0002457900\n",
      "28 “경찰에 접수하세요”… 수사권 조정에 민원인 혼선 https://news.naver.com/main/read.nhn?mode=LSD&mid=shm&sid1=102&oid=005&aid=0001397937\n",
      "29  https://news.naver.com/main/read.nhn?mode=LSD&mid=shm&sid1=103&oid=011&aid=0003851841\n",
      "30 사망자 절반 '요양 시설'서 감염됐지만···이제야 긴급대책, 그마저 역효과 우려 https://news.naver.com/main/read.nhn?mode=LSD&mid=shm&sid1=103&oid=011&aid=0003851841\n",
      "31 정의선 `HTWO` 급물살…中에 수소전지 공장 https://news.naver.com/main/read.nhn?mode=LSD&mid=shm&sid1=103&oid=009&aid=0004728317\n",
      "32 내일 오후부터 많은 눈…아침 기온 최저 영하 19도 강추위 https://news.naver.com/main/read.nhn?mode=LSD&mid=shm&sid1=103&oid=001&aid=0012121338\n",
      "33 볼티모어 폭동·암투병 경험으로 코로나 선제대응한 '한국 사위' https://news.naver.com/main/read.nhn?mode=LSD&mid=shm&sid1=103&oid=001&aid=0012121325\n",
      "34 \"남아공 변이 바이러스, 백신 무용지물 만들 가능성 극히 낮아\" https://news.naver.com/main/read.nhn?mode=LSD&mid=shm&sid1=103&oid=584&aid=0000012195\n",
      "35 황소걸음으로 느릿느릿... '지겟길’ 따라 연대도 한 바퀴 https://news.naver.com/main/read.nhn?mode=LSD&mid=shm&sid1=103&oid=469&aid=0000568915\n",
      "36 동영상 기사 https://news.naver.com/main/read.nhn?mode=LSD&mid=shm&sid1=104&oid=422&aid=0000464983\n",
      "37 英, 브렉시트 후폭풍…탑승 거부에 배송 거절도 https://news.naver.com/main/read.nhn?mode=LSD&mid=shm&sid1=104&oid=422&aid=0000464983\n",
      "38 日 \"신속입국 중단\"中 \"3주격리\"…글로벌 비즈니스 셧다운 공포 https://news.naver.com/main/read.nhn?mode=LSD&mid=shm&sid1=104&oid=009&aid=0004728381\n",
      "39 런던증시, 브렉시트 후폭풍…첫날 8조원 EU로 이탈 https://news.naver.com/main/read.nhn?mode=LSD&mid=shm&sid1=104&oid=009&aid=0004728365\n",
      "40 중국, NYSE 中통신사 퇴출계획 철회에 \"법치 존중하라\" https://news.naver.com/main/read.nhn?mode=LSD&mid=shm&sid1=104&oid=003&aid=0010278289\n",
      "41 이란 해운협회장 \"나포된 한국 선박, 해양오염 배상금 내야\" https://news.naver.com/main/read.nhn?mode=LSD&mid=shm&sid1=104&oid=001&aid=0012121359\n",
      "42 백신이 서 말이라도 맞아야 보배? 콜드체인 확보가 관건 https://news.naver.com/main/read.nhn?mode=LSD&mid=shm&sid1=104&oid=018&aid=0004821945\n",
      "43  https://news.naver.com/main/read.nhn?mode=LSD&mid=shm&sid1=105&oid=081&aid=0003153370\n",
      "44 게임과 엔터 최고끼리 만났다…엔씨·CJ ENM ‘콘텐츠 동맹’ 선언 https://news.naver.com/main/read.nhn?mode=LSD&mid=shm&sid1=105&oid=081&aid=0003153370\n",
      "45 한국 첫 '우주인' 출신 고산의 에이팀벤처스 \"아이디어-공장 24시간 비대면 연결\" https://news.naver.com/main/read.nhn?mode=LSD&mid=shm&sid1=105&oid=015&aid=0004478636\n",
      "46 \"대학 반지하 창고를 실험실로 개조···세계적 수소탱크 스타트업 둥지됐죠\" https://news.naver.com/main/read.nhn?mode=LSD&mid=shm&sid1=105&oid=011&aid=0003851827\n",
      "47 \"의대-이공계 융합연구·기술사업화 주력..대학도 미래 동력 돼야\" https://news.naver.com/main/read.nhn?mode=LSD&mid=shm&sid1=105&oid=011&aid=0003851825\n",
      "48 [넘버스]SKT·KT·LGU+, 주가 부양 '안간힘'…2021년엔 빛볼까 https://news.naver.com/main/read.nhn?mode=LSD&mid=shm&sid1=105&oid=293&aid=0000032730\n",
      "49 [단독] 삼성SDS 가세…\"코로나 백신 유통사업 잡아라\" https://news.naver.com/main/read.nhn?mode=LSD&mid=shm&sid1=105&oid=015&aid=0004478546\n",
      "50  https://news.naver.com/main/ranking/read.nhn?mode=LSD&mid=shm&sid1=001&oid=277&aid=0004822936&rankingType=RANKING\n",
      "51 포르투갈 40대 간호사, 화이자 백신접종 이틀 후 급사.. … https://news.naver.com/main/ranking/read.nhn?mode=LSD&mid=shm&sid1=001&oid=277&aid=0004822936&rankingType=RANKING\n",
      "52  https://news.naver.com/main/ranking/read.nhn?mode=LSD&mid=shm&sid1=001&oid=018&aid=0004821867&rankingType=RANKING\n",
      "53 폭행에 소송전까지...청문회 시작 전 드러나는 박범계 추문 https://news.naver.com/main/ranking/read.nhn?mode=LSD&mid=shm&sid1=001&oid=018&aid=0004821867&rankingType=RANKING\n",
      "54  https://news.naver.com/main/ranking/read.nhn?mode=LSD&mid=shm&sid1=001&oid=015&aid=0004478373&rankingType=RANKING\n",
      "55 [단독] 박범계 폭행 피해자 동료 \"술 냄새에 멱살 잡고  … https://news.naver.com/main/ranking/read.nhn?mode=LSD&mid=shm&sid1=001&oid=015&aid=0004478373&rankingType=RANKING\n",
      "56  https://news.naver.com/main/ranking/read.nhn?mode=LSD&mid=shm&sid1=001&oid=023&aid=0003587874&rankingType=RANKING\n",
      "57 [단독] 박범계, 주폭난동에도 “얻어맞은 경찰이 직무유기” https://news.naver.com/main/ranking/read.nhn?mode=LSD&mid=shm&sid1=001&oid=023&aid=0003587874&rankingType=RANKING\n",
      "58  https://news.naver.com/main/ranking/read.nhn?mode=LSD&mid=shm&sid1=001&oid=469&aid=0000568877&rankingType=RANKING\n",
      "59 정인양 묘지 찾은 이영애 \"정인이 사건, 사회 모두의 책임 … https://news.naver.com/main/ranking/read.nhn?mode=LSD&mid=shm&sid1=001&oid=469&aid=0000568877&rankingType=RANKING\n",
      "60 동영상기사 https://news.naver.com/main/ranking/read.nhn?mode=LSD&mid=shm&sid1=001&oid=422&aid=0000464936&rankingType=RANKING\n",
      "61 오신환, 서울시장 출마 선언…\"게임체인저 될 것\" https://news.naver.com/main/ranking/read.nhn?mode=LSD&mid=shm&sid1=001&oid=422&aid=0000464936&rankingType=RANKING\n",
      "62  https://news.naver.com/main/ranking/read.nhn?mode=LSD&mid=shm&sid1=001&oid=293&aid=0000032723&rankingType=RANKING\n",
      "63 [이슈IN]“반일 인증이냐”…日 아나운서의 ‘BTS 커버댄 … https://news.naver.com/main/ranking/read.nhn?mode=LSD&mid=shm&sid1=001&oid=293&aid=0000032723&rankingType=RANKING\n",
      "64  https://news.naver.com/main/ranking/read.nhn?mode=LSD&mid=shm&sid1=001&oid=437&aid=0000256058&rankingType=RANKING\n",
      "65 [영상] 확진자 3위인데…대통령은 해변서 뒤엉켜 '노마스크 … https://news.naver.com/main/ranking/read.nhn?mode=LSD&mid=shm&sid1=001&oid=437&aid=0000256058&rankingType=RANKING\n",
      "66  https://news.naver.com/main/ranking/read.nhn?mode=LSD&mid=shm&sid1=001&oid=052&aid=0001534375&rankingType=RANKING\n",
      "67 \"정인이 구내염 진단 의사, 면허 박탈해 달라\" 청원 등장 https://news.naver.com/main/ranking/read.nhn?mode=LSD&mid=shm&sid1=001&oid=052&aid=0001534375&rankingType=RANKING\n",
      "68  https://news.naver.com/main/ranking/read.nhn?mode=LSD&mid=shm&sid1=001&oid=025&aid=0003067110&rankingType=RANKING\n",
      "69 배우 이영애, 자녀들과 함께 정인이 양평 묘소 찾아 추모 https://news.naver.com/main/ranking/read.nhn?mode=LSD&mid=shm&sid1=001&oid=025&aid=0003067110&rankingType=RANKING\n",
      "70 동영상기사 https://news.naver.com/main/ranking/read.nhn?mode=LSD&mid=shm&sid1=001&oid=056&aid=0010965261&rankingType=RANKING\n",
      "71 흩어진 카드 포인트 한 번에 조회해 현금으로…계좌이체도 가 … https://news.naver.com/main/ranking/read.nhn?mode=LSD&mid=shm&sid1=001&oid=056&aid=0010965261&rankingType=RANKING\n",
      "72  https://news.naver.com/main/ranking/read.nhn?mode=LSD&mid=shm&sid1=001&oid=082&aid=0001057364&rankingType=RANKING\n",
      "73 [속보] \"무증상·경증 코로나19 환자, 8개월 후에도 항 … https://news.naver.com/main/ranking/read.nhn?mode=LSD&mid=shm&sid1=001&oid=082&aid=0001057364&rankingType=RANKING\n",
      "74  https://news.naver.com/main/ranking/read.nhn?mode=LSD&mid=shm&sid1=001&oid=138&aid=0002097058&rankingType=RANKING\n",
      "75 애플, ‘아이폰13’ 전 모델에 라이다 스캐너 적용? https://news.naver.com/main/ranking/read.nhn?mode=LSD&mid=shm&sid1=001&oid=138&aid=0002097058&rankingType=RANKING\n",
      "76  https://news.naver.com/main/ranking/read.nhn?mode=LSD&mid=shm&sid1=001&oid=055&aid=0000865611&rankingType=RANKING\n",
      "77 여성 덮친 4.5m 파도…마침 곁에 '이 사람' 있었다 https://news.naver.com/main/ranking/read.nhn?mode=LSD&mid=shm&sid1=001&oid=055&aid=0000865611&rankingType=RANKING\n",
      "78  https://news.naver.com/main/ranking/read.nhn?mode=LSD&mid=shm&sid1=001&oid=014&aid=0004559264&rankingType=RANKING\n",
      "79 중국 테니스 전설 韓귀화 해프닝에 中대륙 요동 https://news.naver.com/main/ranking/read.nhn?mode=LSD&mid=shm&sid1=001&oid=014&aid=0004559264&rankingType=RANKING\n",
      "80 수원서 세 모녀 숨진 채 발견돼 https://news.naver.com/main/ranking/read.nhn?mode=LSD&mid=shm&sid1=001&oid=032&aid=0003052387&rankingType=RANKING\n",
      "81  https://news.naver.com/main/ranking/read.nhn?mode=LSD&mid=shm&sid1=001&oid=001&aid=0012121169&rankingType=RANKING\n",
      "82 '코로나 영업제한' 저항 확산…헌법소원 내고 오픈 시위도 https://news.naver.com/main/ranking/read.nhn?mode=LSD&mid=shm&sid1=001&oid=001&aid=0012121169&rankingType=RANKING\n",
      "83  https://news.naver.com/main/ranking/read.nhn?mode=LSD&mid=shm&sid1=001&oid=003&aid=0010278060&rankingType=RANKING\n",
      "84 코로나 전국 확산 '뇌관'으로 등장한 '상주 BTJ 열방센 … https://news.naver.com/main/ranking/read.nhn?mode=LSD&mid=shm&sid1=001&oid=003&aid=0010278060&rankingType=RANKING\n",
      "85  https://news.naver.com/main/ranking/read.nhn?mode=LSD&mid=shm&sid1=001&oid=028&aid=0002527223&rankingType=RANKING\n",
      "86 국민의힘, ‘뉴스공장 폐지’ 공약 추진…‘김어준 퇴출’ 맹 … https://news.naver.com/main/ranking/read.nhn?mode=LSD&mid=shm&sid1=001&oid=028&aid=0002527223&rankingType=RANKING\n",
      "87  https://news.naver.com/main/ranking/read.nhn?mode=LSD&mid=shm&sid1=001&oid=094&aid=0000008744&rankingType=RANKING\n",
      "88 ['흰소의 해' 특집] 흰 소를 닮은 덕유산…상고대만 빼고 … https://news.naver.com/main/ranking/read.nhn?mode=LSD&mid=shm&sid1=001&oid=094&aid=0000008744&rankingType=RANKING\n",
      "89  https://news.naver.com/main/ranking/read.nhn?mode=LSD&mid=shm&sid1=001&oid=310&aid=0000082914&rankingType=RANKING\n",
      "90 '미나리' 트로피 9개 추가...윤여정 미 영화상 3관왕 https://news.naver.com/main/ranking/read.nhn?mode=LSD&mid=shm&sid1=001&oid=310&aid=0000082914&rankingType=RANKING\n",
      "91  https://news.naver.com/main/ranking/read.nhn?mode=LSD&mid=shm&sid1=001&oid=296&aid=0000047958&rankingType=RANKING\n",
      "92 아침 커피 한 잔의 효과.. 물과 같이 마시면 좋은 이유 https://news.naver.com/main/ranking/read.nhn?mode=LSD&mid=shm&sid1=001&oid=296&aid=0000047958&rankingType=RANKING\n",
      "93  https://news.naver.com/main/ranking/read.nhn?mode=LSD&mid=shm&sid1=001&oid=005&aid=0001397811&rankingType=RANKING\n",
      "94 한풀 꺾이는 코로나 확산세…새해 첫 주 확진자 감소 https://news.naver.com/main/ranking/read.nhn?mode=LSD&mid=shm&sid1=001&oid=005&aid=0001397811&rankingType=RANKING\n",
      "95  https://news.naver.com/main/ranking/read.nhn?mode=LSD&mid=shm&sid1=001&oid=053&aid=0000028424&rankingType=RANKING\n",
      "96 대통령 레임덕의 함수, ‘부정평가’ 55% 넘는 순간… https://news.naver.com/main/ranking/read.nhn?mode=LSD&mid=shm&sid1=001&oid=053&aid=0000028424&rankingType=RANKING\n",
      "97  https://news.naver.com/main/ranking/read.nhn?mode=LSD&mid=shm&sid1=001&oid=011&aid=0003851715&rankingType=RANKING\n",
      "98 [시그널] \"주주가치 훼손\"...국민연금, 대한항공의 아시 … https://news.naver.com/main/ranking/read.nhn?mode=LSD&mid=shm&sid1=001&oid=011&aid=0003851715&rankingType=RANKING\n",
      "99  https://news.naver.com/main/ranking/read.nhn?mode=LSD&mid=shm&sid1=001&oid=081&aid=0003153322&rankingType=RANKING\n",
      "100 박원순에 피소 알린 의혹 남인순 의원 “무슨 일 있냐고만  … https://news.naver.com/main/ranking/read.nhn?mode=LSD&mid=shm&sid1=001&oid=081&aid=0003153322&rankingType=RANKING\n",
      "101  https://news.naver.com/main/ranking/read.nhn?mode=LSD&mid=shm&sid1=001&oid=092&aid=0002209802&rankingType=RANKING\n",
      "102 갤럭시S21 울트라 S펜, 이렇게 생겼다 https://news.naver.com/main/ranking/read.nhn?mode=LSD&mid=shm&sid1=001&oid=092&aid=0002209802&rankingType=RANKING\n",
      "103  https://news.naver.com/main/ranking/read.nhn?mode=LSD&mid=shm&sid1=001&oid=586&aid=0000019806&rankingType=RANKING\n",
      "104 어차피 답은 박범계? 다시 고개 드는 '청문회 무용론' https://news.naver.com/main/ranking/read.nhn?mode=LSD&mid=shm&sid1=001&oid=586&aid=0000019806&rankingType=RANKING\n",
      "105  https://news.naver.com/main/ranking/read.nhn?mode=LSD&mid=shm&sid1=001&oid=448&aid=0000315559&rankingType=RANKING\n",
      "106 남인순 \"故박원순 피해자 깊은 고통에 공감\"…피소 사실 유 … https://news.naver.com/main/ranking/read.nhn?mode=LSD&mid=shm&sid1=001&oid=448&aid=0000315559&rankingType=RANKING\n",
      "107  https://news.naver.com/main/ranking/read.nhn?mode=LSD&mid=shm&sid1=001&oid=044&aid=0000224553&rankingType=RANKING\n",
      "108 [News Focus] 3 in 7 women from N … https://news.naver.com/main/ranking/read.nhn?mode=LSD&mid=shm&sid1=001&oid=044&aid=0000224553&rankingType=RANKING\n",
      "109  https://news.naver.com/main/ranking/read.nhn?mode=LSD&mid=shm&sid1=001&oid=020&aid=0003330427&rankingType=RANKING\n",
      "110 ‘尹 징계’ 정한중 “공수처 아닌 공소청 반대…시골출신 제 … https://news.naver.com/main/ranking/read.nhn?mode=LSD&mid=shm&sid1=001&oid=020&aid=0003330427&rankingType=RANKING\n",
      "111  https://news.naver.com/main/ranking/read.nhn?mode=LSD&mid=shm&sid1=001&oid=008&aid=0004523891&rankingType=RANKING\n",
      "112 고객 주는 마카롱을 발 위에…백화점 직원들 도넘은 장난 https://news.naver.com/main/ranking/read.nhn?mode=LSD&mid=shm&sid1=001&oid=008&aid=0004523891&rankingType=RANKING\n",
      "113  https://news.naver.com/main/ranking/read.nhn?mode=LSD&mid=shm&sid1=001&oid=087&aid=0000827450&rankingType=RANKING\n",
      "114 [속보]정총리 \"코로나19 누적 사망자 1000명 넘어…한 … https://news.naver.com/main/ranking/read.nhn?mode=LSD&mid=shm&sid1=001&oid=087&aid=0000827450&rankingType=RANKING\n",
      "115  https://news.naver.com/main/ranking/read.nhn?mode=LSD&mid=shm&sid1=001&oid=088&aid=0000680306&rankingType=RANKING\n",
      "116 '구미·칠곡~대구·경산' 비수도권 최초 대구권 광역철도 추 … https://news.naver.com/main/ranking/read.nhn?mode=LSD&mid=shm&sid1=001&oid=088&aid=0000680306&rankingType=RANKING\n",
      "117  https://news.naver.com/main/ranking/read.nhn?mode=LSD&mid=shm&sid1=001&oid=031&aid=0000577454&rankingType=RANKING\n",
      "118 '정인이 사건' 대책 마련 촉구한 정세균…\"과태료 부과법  … https://news.naver.com/main/ranking/read.nhn?mode=LSD&mid=shm&sid1=001&oid=031&aid=0000577454&rankingType=RANKING\n",
      "119  https://news.naver.com/main/ranking/read.nhn?mode=LSD&mid=shm&sid1=001&oid=047&aid=0002297748&rankingType=RANKING\n",
      "120 충격 빠진 '정인이 양부' 소속 언론사, 해임 결정 https://news.naver.com/main/ranking/read.nhn?mode=LSD&mid=shm&sid1=001&oid=047&aid=0002297748&rankingType=RANKING\n",
      "121  https://news.naver.com/main/ranking/read.nhn?mode=LSD&mid=shm&sid1=001&oid=308&aid=0000028077&rankingType=RANKING\n",
      "122 ‘방역 정치’가 드러낸 한국인의 세계- 각자도생의 경고 https://news.naver.com/main/ranking/read.nhn?mode=LSD&mid=shm&sid1=001&oid=308&aid=0000028077&rankingType=RANKING\n",
      "123  https://news.naver.com/main/ranking/read.nhn?mode=LSD&mid=shm&sid1=001&oid=009&aid=0004728213&rankingType=RANKING\n",
      "124 [속보] 국민연금, 대한항공 아시아나 인수 반대 https://news.naver.com/main/ranking/read.nhn?mode=LSD&mid=shm&sid1=001&oid=009&aid=0004728213&rankingType=RANKING\n",
      "125 천안서 서울 송파구의원 등 2명 숨진 채 발견…“타살 정황 없어” https://news.naver.com/main/ranking/read.nhn?mode=LSD&mid=shm&sid1=001&oid=021&aid=0002455397&rankingType=RANKING\n",
      "126  https://news.naver.com/main/ranking/read.nhn?mode=LSD&mid=shm&sid1=001&oid=022&aid=0003539697&rankingType=RANKING\n",
      "127 [속보] 코스피 3000선 턱밑까지… 사상 최고 2990. … https://news.naver.com/main/ranking/read.nhn?mode=LSD&mid=shm&sid1=001&oid=022&aid=0003539697&rankingType=RANKING\n",
      "128  https://news.naver.com/main/ranking/read.nhn?mode=LSD&mid=shm&sid1=001&oid=079&aid=0003451048&rankingType=RANKING\n",
      "129 [이슈시개]황하나 녹취록 파문…前남친 유서 주목받는 까닭 https://news.naver.com/main/ranking/read.nhn?mode=LSD&mid=shm&sid1=001&oid=079&aid=0003451048&rankingType=RANKING\n",
      "130  https://news.naver.com/main/ranking/read.nhn?mode=LSD&mid=shm&sid1=001&oid=421&aid=0005088625&rankingType=RANKING\n",
      "131 '화이자 백신 접종' 세번째 사망자 발생…건강했던 40대  … https://news.naver.com/main/ranking/read.nhn?mode=LSD&mid=shm&sid1=001&oid=421&aid=0005088625&rankingType=RANKING\n",
      "132  https://news.naver.com/main/ranking/read.nhn?mode=LSD&mid=shm&sid1=001&oid=366&aid=0000646585&rankingType=RANKING\n",
      "133 이란은 왜 韓 유조선 억류했나…바이든 압박·한국에 동결된  … https://news.naver.com/main/ranking/read.nhn?mode=LSD&mid=shm&sid1=001&oid=366&aid=0000646585&rankingType=RANKING\n",
      "134  https://news.naver.com/main/ranking/read.nhn?mode=LSD&mid=shm&sid1=001&oid=024&aid=0000067219&rankingType=RANKING\n",
      "135 둔촌주공·3기 신도시 `대어급`이 온다 https://news.naver.com/main/ranking/read.nhn?mode=LSD&mid=shm&sid1=001&oid=024&aid=0000067219&rankingType=RANKING\n",
      "136  https://news.naver.com/main/ranking/read.nhn?mode=LSD&mid=shm&sid1=001&oid=119&aid=0002457863&rankingType=RANKING\n",
      "137 \"윤미향의 향기\", \"국민 우롱\"…박원순 피소 몰랐다는 남 … https://news.naver.com/main/ranking/read.nhn?mode=LSD&mid=shm&sid1=001&oid=119&aid=0002457863&rankingType=RANKING\n",
      "138  https://news.naver.com/main/ranking/read.nhn?mode=LSD&mid=shm&sid1=001&oid=417&aid=0000640262&rankingType=RANKING\n",
      "139 문 대통령 \"백신 접종 이르면 다음달… 재난지원금 다음주  … https://news.naver.com/main/ranking/read.nhn?mode=LSD&mid=shm&sid1=001&oid=417&aid=0000640262&rankingType=RANKING\n",
      "140  https://news.naver.com/main/ranking/read.nhn?mode=LSD&mid=shm&sid1=001&oid=214&aid=0001090653&rankingType=RANKING\n",
      "141 정의당 \"남인순이 故박원순 피소 사실 유출\"…남인순 \"사실 … https://news.naver.com/main/ranking/read.nhn?mode=LSD&mid=shm&sid1=001&oid=214&aid=0001090653&rankingType=RANKING\n",
      "142  https://news.naver.com/main/ranking/read.nhn?mode=LSD&mid=shm&sid1=001&oid=036&aid=0000044223&rankingType=RANKING\n",
      "143 [유대인·이스라엘] 유대인은 팔레스타인 땅에서 추방되지 않 … https://news.naver.com/main/ranking/read.nhn?mode=LSD&mid=shm&sid1=001&oid=036&aid=0000044223&rankingType=RANKING\n",
      "144  https://news.naver.com/main/ranking/read.nhn?mode=LSD&mid=shm&sid1=001&oid=640&aid=0000007596&rankingType=RANKING\n",
      "145 Iranian authorities seize South  … https://news.naver.com/main/ranking/read.nhn?mode=LSD&mid=shm&sid1=001&oid=640&aid=0000007596&rankingType=RANKING\n",
      "146  https://news.naver.com/main/ranking/read.nhn?mode=LSD&mid=shm&sid1=001&oid=016&aid=0001774094&rankingType=RANKING\n",
      "147 “믿을수 없는 장면까지…” 18조원 번 유튜브 저질 광고  … https://news.naver.com/main/ranking/read.nhn?mode=LSD&mid=shm&sid1=001&oid=016&aid=0001774094&rankingType=RANKING\n",
      "148  https://news.naver.com/main/ranking/read.nhn?mode=LSD&mid=shm&sid1=001&oid=123&aid=0002237548&rankingType=RANKING\n",
      "149 \"정인이\" 사건, 강력처벌 위해 양형기준 상향 요청 https://news.naver.com/main/ranking/read.nhn?mode=LSD&mid=shm&sid1=001&oid=123&aid=0002237548&rankingType=RANKING\n",
      "150  https://news.naver.com/main/ranking/read.nhn?mode=LSD&mid=shm&sid1=001&oid=007&aid=0000006678&rankingType=RANKING\n",
      "151 베를린에서 온 기후 편지 “탄소중립사회 가능할까요?” https://news.naver.com/main/ranking/read.nhn?mode=LSD&mid=shm&sid1=001&oid=007&aid=0000006678&rankingType=RANKING\n",
      "152  https://news.naver.com/main/ranking/read.nhn?mode=LSD&mid=shm&sid1=001&oid=584&aid=0000012191&rankingType=RANKING\n",
      "153 독일, 덴마크도 백신 2차 접종 6주 뒤로…유럽, 백신 수 … https://news.naver.com/main/ranking/read.nhn?mode=LSD&mid=shm&sid1=001&oid=584&aid=0000012191&rankingType=RANKING\n",
      "154  https://news.naver.com/main/ranking/read.nhn?mode=LSD&mid=shm&sid1=001&oid=449&aid=0000202670&rankingType=RANKING\n",
      "155 “검찰개혁” 외치며 윤석열 응원 화환에 불 지른 70대 체 … https://news.naver.com/main/ranking/read.nhn?mode=LSD&mid=shm&sid1=001&oid=449&aid=0000202670&rankingType=RANKING\n",
      "156  https://news.naver.com/main/ranking/read.nhn?mode=LSD&mid=shm&sid1=001&oid=215&aid=0000927058&rankingType=RANKING\n",
      "157 \"구충제 이버멕틴, 코로나19 치사율 최대 80% 낮춘다\" https://news.naver.com/main/ranking/read.nhn?mode=LSD&mid=shm&sid1=001&oid=215&aid=0000927058&rankingType=RANKING\n",
      "158  https://news.naver.com/main/ranking/read.nhn?mode=LSD&mid=shm&sid1=001&oid=346&aid=0000036492&rankingType=RANKING\n",
      "159 입냄새 없애려면… 치약 헹굴 때 찬 물? 따뜻한 물? https://news.naver.com/main/ranking/read.nhn?mode=LSD&mid=shm&sid1=001&oid=346&aid=0000036492&rankingType=RANKING\n",
      "160  https://news.naver.com/main/ranking/read.nhn?mode=LSD&mid=shm&sid1=001&oid=057&aid=0001535917&rankingType=RANKING\n",
      "161 '학대 신고' 정인이 진료 의사 \"15개월 아기가 모든 걸 … https://news.naver.com/main/ranking/read.nhn?mode=LSD&mid=shm&sid1=001&oid=057&aid=0001535917&rankingType=RANKING\n",
      "162  https://news.naver.com/main/ranking/read.nhn?mode=LSD&mid=shm&sid1=001&oid=037&aid=0000028619&rankingType=RANKING\n",
      "163 ‘페북’ 절필 이후 진중권, “유권자 토론 위한 역할 고민 … https://news.naver.com/main/ranking/read.nhn?mode=LSD&mid=shm&sid1=001&oid=037&aid=0000028619&rankingType=RANKING\n",
      "164  https://news.naver.com/main/ranking/read.nhn?mode=LSD&mid=shm&sid1=001&oid=145&aid=0000015265&rankingType=RANKING\n",
      "165 집 안 곰팡이, 중증 천식 일으킨다 https://news.naver.com/main/ranking/read.nhn?mode=LSD&mid=shm&sid1=001&oid=145&aid=0000015265&rankingType=RANKING\n",
      "166  https://news.naver.com/main/ranking/read.nhn?mode=LSD&mid=shm&sid1=001&oid=243&aid=0000011541&rankingType=RANKING\n",
      "167 [글로벌 수소차 점유율 73%, 현대차 울산공장] 수소차  … https://news.naver.com/main/ranking/read.nhn?mode=LSD&mid=shm&sid1=001&oid=243&aid=0000011541&rankingType=RANKING\n",
      "168  https://news.naver.com/main/ranking/read.nhn?mode=LSD&mid=shm&sid1=001&oid=029&aid=0002647080&rankingType=RANKING\n",
      "169 \"추가 대책 주저하지 않겠다\"…대통령 `집값 안정 의지`  … https://news.naver.com/main/ranking/read.nhn?mode=LSD&mid=shm&sid1=001&oid=029&aid=0002647080&rankingType=RANKING\n",
      "170  https://news.naver.com/main/ranking/read.nhn?mode=LSD&mid=shm&sid1=001&oid=006&aid=0000106185&rankingType=RANKING\n",
      "171 '우리 이혼했어요' 칭찬만 가득했던 TV조선 시청자위원회& … https://news.naver.com/main/ranking/read.nhn?mode=LSD&mid=shm&sid1=001&oid=006&aid=0000106185&rankingType=RANKING\n",
      "172  https://news.naver.com/main/ranking/read.nhn?mode=LSD&mid=shm&sid1=001&oid=002&aid=0002166894&rankingType=RANKING\n",
      "173 \"헤어진 남친이 '사진이 있다'며 성관계 요구...전 패닉 … https://news.naver.com/main/ranking/read.nhn?mode=LSD&mid=shm&sid1=001&oid=002&aid=0002166894&rankingType=RANKING\n",
      "174  https://news.naver.com/main/ranking/read.nhn?mode=LSD&mid=shm&sid1=001&oid=262&aid=0000014094&rankingType=RANKING\n",
      "175 文 평화프로세스, 바이든의 ‘서그’ 암초에 좌초 위기 https://news.naver.com/main/ranking/read.nhn?mode=LSD&mid=shm&sid1=001&oid=262&aid=0000014094&rankingType=RANKING\n",
      "176  https://news.naver.com/main/ranking/read.nhn?mode=LSD&mid=shm&sid1=001&oid=127&aid=0000030473&rankingType=RANKING\n",
      "177 \"대주주를 견제하지 않고 놔뒀더니 우리 밥그릇이 깨졌네요\" https://news.naver.com/main/ranking/read.nhn?mode=LSD&mid=shm&sid1=001&oid=127&aid=0000030473&rankingType=RANKING\n",
      "178  https://news.naver.com/main/ranking/read.nhn?mode=LSD&mid=shm&sid1=001&oid=127&aid=0000030473&rankingType=RANKING\n",
      "179 \"대주주를 견제하지 않고 놔뒀더니 우리 밥그릇이 깨졌네요\" https://news.naver.com/main/ranking/read.nhn?mode=LSD&mid=shm&sid1=001&oid=127&aid=0000030473&rankingType=RANKING\n",
      "180  https://news.naver.com/main/ranking/read.nhn?mode=LSD&mid=shm&sid1=001&oid=629&aid=0000061145&rankingType=RANKING\n",
      "181 [속보] 코스피, 사상 최고가 경신…2990선 돌파하며 마 … https://news.naver.com/main/ranking/read.nhn?mode=LSD&mid=shm&sid1=001&oid=629&aid=0000061145&rankingType=RANKING\n",
      "182  https://news.naver.com/main/ranking/read.nhn?mode=LSD&mid=shm&sid1=001&oid=030&aid=0002921910&rankingType=RANKING\n",
      "183 정부, '특고' 소득 파악한다…\"사업주 소득지급명세서 매월 … https://news.naver.com/main/ranking/read.nhn?mode=LSD&mid=shm&sid1=001&oid=030&aid=0002921910&rankingType=RANKING\n",
      "184 동영상기사 https://news.naver.com/main/ranking/read.nhn?mode=LSD&mid=shm&sid1=001&oid=374&aid=0000229696&rankingType=RANKING\n",
      "185 셀트리온 임상시험 결과 공개…신규 확진자 1천명 아래로 https://news.naver.com/main/ranking/read.nhn?mode=LSD&mid=shm&sid1=001&oid=374&aid=0000229696&rankingType=RANKING\n",
      "186  https://news.naver.com/main/ranking/read.nhn?mode=LSD&mid=shm&sid1=001&oid=050&aid=0000056203&rankingType=RANKING\n",
      "187 기아는 ‘차’ 떼고 SKT는 ‘통신’ 버리고…주력 사업 지 … https://news.naver.com/main/ranking/read.nhn?mode=LSD&mid=shm&sid1=001&oid=050&aid=0000056203&rankingType=RANKING\n"
     ]
    }
   ],
   "source": [
    "# res.status_code == 200\n",
    "if res.ok:\n",
    "    # Response 객체에서 텍스트를 추출\n",
    "    html = res.text\n",
    "    #print(html)\n",
    "    soup = BeautifulSoup(html, 'html.parser')\n",
    "    #print(soup)\n",
    "    atag_list =soup.select(\"a[href*='read.nhn']\") \n",
    "    print(type(atag_list), len(atag_list))\n",
    "    #print(atag_list)\n",
    "    for idx, atag in enumerate(atag_list, 1):\n",
    "        title = atag.text.strip()\n",
    "        link = urljoin(url, atag['href'])\n",
    "        print(idx, title, link)\n",
    "    \n",
    "    "
   ]
  },
  {
   "cell_type": "markdown",
   "metadata": {},
   "source": [
    "### Papago 번역 API 호출\n",
    "* urllib 를 사용한 예제코드"
   ]
  },
  {
   "cell_type": "code",
   "execution_count": 33,
   "metadata": {},
   "outputs": [
    {
     "name": "stdout",
     "output_type": "stream",
     "text": [
      "{\"message\":{\"@type\":\"response\",\"@service\":\"naverservice.nmt.proxy\",\"@version\":\"1.0.0\",\"result\":{\"srcLangType\":\"en\",\"tarLangType\":\"ko\",\"translatedText\":\"어제 나의 모든 걱정은 너무 멀리 있는 것 같다.\",\"engineType\":\"N2MT\",\"pivot\":null}}}\n"
     ]
    }
   ],
   "source": [
    "# 네이버 Papago NMT API 예제\n",
    "import os\n",
    "import sys\n",
    "import urllib.request\n",
    "\n",
    "client_id = \"ZzyBY635Yl2U3JjFzNt2\"\n",
    "client_secret = \"AEKs6skA8R\"\n",
    "encText = urllib.parse.quote(\"Yesterday all my troubles seemed so far away.\")\n",
    "data = \"source=en&target=ko&text=\" + encText\n",
    "url = \"https://openapi.naver.com/v1/papago/n2mt\"\n",
    "request = urllib.request.Request(url)\n",
    "request.add_header(\"X-Naver-Client-Id\",client_id)\n",
    "request.add_header(\"X-Naver-Client-Secret\",client_secret)\n",
    "response = urllib.request.urlopen(request, data=data.encode(\"utf-8\"))\n",
    "rescode = response.getcode()\n",
    "if(rescode==200):\n",
    "    response_body = response.read()\n",
    "    print(response_body.decode('utf-8'))\n",
    "else:\n",
    "    print(\"Error Code:\" + rescode)"
   ]
  },
  {
   "cell_type": "code",
   "execution_count": 50,
   "metadata": {},
   "outputs": [
    {
     "name": "stdout",
     "output_type": "stream",
     "text": [
      "번역할 영문장을 입력하세요 : hello\n",
      "True 200\n",
      "요청 헤더  {'User-Agent': 'python-requests/2.24.0', 'Accept-Encoding': 'gzip, deflate', 'Accept': '*/*', 'Connection': 'keep-alive', 'X-Naver-Client-Id': 'ZzyBY635Yl2U3JjFzNt2', 'X-Naver-Client-Secret': 'AEKs6skA8R', 'Content-Length': '30', 'Content-Type': 'application/x-www-form-urlencoded'}\n",
      "응답 헤더  {'Server': 'nginx', 'Date': 'Tue, 05 Jan 2021 07:41:18 GMT', 'Content-Type': 'application/json; charset=UTF-8', 'Content-Length': '168', 'Connection': 'keep-alive', 'Keep-Alive': 'timeout=5', 'X-QUOTA': '5', 'Content-Encoding': 'gzip'}\n",
      "<class 'str'> {\"message\":{\"@type\":\"response\",\"@service\":\"naverservice.nmt.proxy\",\"@version\":\"1.0.0\",\"result\":{\"srcLangType\":\"en\",\"tarLangType\":\"ko\",\"translatedText\":\"안녕\",\"engineType\":\"PRETRANS\",\"pivot\":null}}}\n"
     ]
    }
   ],
   "source": [
    "import requests\n",
    "\n",
    "client_id = \"ZzyBY635Yl2U3JjFzNt2\"\n",
    "client_secret = \"AEKs6skA8R\"\n",
    "url = \"https://openapi.naver.com/v1/papago/n2mt\"\n",
    "enc_text = \"\"\n",
    "print(\"번역할 영문장을 입력하세요 : \", end = \"\")\n",
    "enc_text = input()\n",
    "\n",
    "req_header = {\n",
    "    \"X-Naver-Client-Id\": client_id,\n",
    "    \"X-Naver-Client-Secret\": client_secret\n",
    "}\n",
    "req_param = {\n",
    "    \"source\": \"en\",\n",
    "    \"target\": \"ko\",\n",
    "    \"text\" : enc_text\n",
    "}\n",
    "res = requests.post(url, data=req_param, headers=req_header)\n",
    "print(res.ok, res.status_code)\n",
    "print('요청 헤더 ',res.request.headers)\n",
    "print('응답 헤더 ',res.headers)\n",
    "\n",
    "if res.ok:\n",
    "    print(type(res.text), res.text)\n",
    "else:\n",
    "    print('http status code', res.status)"
   ]
  },
  {
   "cell_type": "code",
   "execution_count": 52,
   "metadata": {
    "scrolled": true
   },
   "outputs": [
    {
     "name": "stdout",
     "output_type": "stream",
     "text": [
      "<class 'dict'> {'message': {'@type': 'response', '@service': 'naverservice.nmt.proxy', '@version': '1.0.0', 'result': {'srcLangType': 'en', 'tarLangType': 'ko', 'translatedText': '안녕', 'engineType': 'PRETRANS', 'pivot': None}}}\n",
      "안녕\n"
     ]
    }
   ],
   "source": [
    "result_json = res.json()\n",
    "print(type(result_json), result_json)\n",
    "result_text = result_json['message']['result']['translatedText']\n",
    "print(result_text)"
   ]
  },
  {
   "cell_type": "markdown",
   "metadata": {},
   "source": [
    "### 웹툰 Image 다운로드"
   ]
  },
  {
   "cell_type": "code",
   "execution_count": 1,
   "metadata": {},
   "outputs": [
    {
     "name": "stdout",
     "output_type": "stream",
     "text": [
      "True\n"
     ]
    },
    {
     "ename": "NameError",
     "evalue": "name 'data' is not defined",
     "output_type": "error",
     "traceback": [
      "\u001b[1;31m---------------------------------------------------------------------------\u001b[0m",
      "\u001b[1;31mNameError\u001b[0m                                 Traceback (most recent call last)",
      "\u001b[1;32m<ipython-input-1-314ca833a602>\u001b[0m in \u001b[0;36m<module>\u001b[1;34m\u001b[0m\n\u001b[0;32m     20\u001b[0m         \u001b[0mimg_data\u001b[0m \u001b[1;33m=\u001b[0m \u001b[0mres\u001b[0m\u001b[1;33m.\u001b[0m\u001b[0mcontent\u001b[0m\u001b[1;33m\u001b[0m\u001b[1;33m\u001b[0m\u001b[0m\n\u001b[0;32m     21\u001b[0m         \u001b[0mfile_name\u001b[0m \u001b[1;33m=\u001b[0m \u001b[0mos\u001b[0m\u001b[1;33m.\u001b[0m\u001b[0mpath\u001b[0m\u001b[1;33m.\u001b[0m\u001b[0mbasename\u001b[0m\u001b[1;33m(\u001b[0m\u001b[0mimg_url\u001b[0m\u001b[1;33m)\u001b[0m\u001b[1;33m\u001b[0m\u001b[1;33m\u001b[0m\u001b[0m\n\u001b[1;32m---> 22\u001b[1;33m         \u001b[1;32mwith\u001b[0m \u001b[0mopen\u001b[0m\u001b[1;33m(\u001b[0m\u001b[0mdata\u001b[0m\u001b[1;33m/\u001b[0m\u001b[0mfile_name\u001b[0m\u001b[1;33m,\u001b[0m \u001b[1;34m'wb'\u001b[0m\u001b[1;33m)\u001b[0m \u001b[1;32mas\u001b[0m \u001b[0mfile\u001b[0m\u001b[1;33m:\u001b[0m\u001b[1;33m\u001b[0m\u001b[1;33m\u001b[0m\u001b[0m\n\u001b[0m\u001b[0;32m     23\u001b[0m             \u001b[0mprint\u001b[0m\u001b[1;33m(\u001b[0m\u001b[1;34mf'Writing to {file_name}   |  {len(img_data)} bytes'\u001b[0m\u001b[1;33m)\u001b[0m\u001b[1;33m\u001b[0m\u001b[1;33m\u001b[0m\u001b[0m\n\u001b[0;32m     24\u001b[0m             \u001b[0mfile\u001b[0m\u001b[1;33m.\u001b[0m\u001b[0mwrite\u001b[0m\u001b[1;33m(\u001b[0m\u001b[0mimg_data\u001b[0m\u001b[1;33m)\u001b[0m\u001b[1;33m\u001b[0m\u001b[1;33m\u001b[0m\u001b[0m\n",
      "\u001b[1;31mNameError\u001b[0m: name 'data' is not defined"
     ]
    }
   ],
   "source": [
    "import requests\n",
    "import os\n",
    "\n",
    "req_header = {\n",
    "    'referer': 'https://comic.naver.com/webtoon/detail.nhn?titleId=703852&no=132&weekday=tue'\n",
    "}\n",
    "\n",
    "img_url_list = [\n",
    "    'https://image-comic.pstatic.net/webtoon/703852/132/20201221212625_b2bc8a16b5090eff701a39cf4b55310b_IMAG01_1.jpg',\n",
    "    'https://image-comic.pstatic.net/webtoon/703852/132/20201221212625_b2bc8a16b5090eff701a39cf4b55310b_IMAG01_2.jpg',\n",
    "    'https://image-comic.pstatic.net/webtoon/703852/132/20201221212625_b2bc8a16b5090eff701a39cf4b55310b_IMAG01_3.jpg'\n",
    "]\n",
    "\n",
    "for img_url in img_url_list:\n",
    "    res = requests.get(img_url, headers=req_header)\n",
    "    print(res.ok)\n",
    "\n",
    "    if res.ok:\n",
    "        # Response 객체에서 binary 데이터를 가져올때는 content 속성을 사용\n",
    "        img_data = res.content\n",
    "        file_name = os.path.basename(img_url)\n",
    "        with open(file_name, 'wb') as file:\n",
    "            print(f'Writing to {file_name}   |  {len(img_data)} bytes')\n",
    "            file.write(img_data)"
   ]
  }
 ],
 "metadata": {
  "kernelspec": {
   "display_name": "Python 3",
   "language": "python",
   "name": "python3"
  },
  "language_info": {
   "codemirror_mode": {
    "name": "ipython",
    "version": 3
   },
   "file_extension": ".py",
   "mimetype": "text/x-python",
   "name": "python",
   "nbconvert_exporter": "python",
   "pygments_lexer": "ipython3",
   "version": "3.8.5"
  }
 },
 "nbformat": 4,
 "nbformat_minor": 4
}
